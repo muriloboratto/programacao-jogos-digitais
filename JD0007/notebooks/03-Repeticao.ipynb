{
 "cells": [
  {
   "cell_type": "markdown",
   "metadata": {
    "id": "xXATwZ8VxZG7"
   },
   "source": [
    "# Introdução à Linguagem de Programação (C$#$)\n",
    "\n",
    " Murilo Boratto$^1$\n",
    "\n",
    "$^1$ Colegiado de Jogos Digitais <br />\n",
    "     &nbsp;&nbsp;&nbsp; Departamento de Ciências Exatas e da Terra I <br />\n",
    "     &nbsp;&nbsp;&nbsp; Universidade do Estado da Bahia (UNEB), Salvador, Bahia, Brasil \n"
   ]
  },
  {
   "cell_type": "markdown",
   "metadata": {
    "id": "MyB9gzUjSGKc"
   },
   "source": [
    "# Instalação  C$#$"
   ]
  },
  {
   "cell_type": "markdown",
   "metadata": {
    "id": "orxl23v_xqVe"
   },
   "source": [
    "Este é o passo a passo de como instalar o C# em ambiente virtual do Colab, utilizando a implementação open source do C#, o mono, sem utilizar qualquer IDE."
   ]
  },
  {
   "cell_type": "code",
   "execution_count": null,
   "metadata": {
    "colab": {
     "base_uri": "https://localhost:8080/"
    },
    "executionInfo": {
     "elapsed": 39499,
     "status": "ok",
     "timestamp": 1668446233914,
     "user": {
      "displayName": "Murilo Boratto",
      "userId": "13998345321799991370"
     },
     "user_tz": 180
    },
    "id": "cIWeteLFbMdM",
    "outputId": "e2f85d3c-e5cd-4e7d-9c19-67361b69b5fc"
   },
   "outputs": [],
   "source": [
    "!sudo apt-get install mono-devel"
   ]
  },
  {
   "cell_type": "code",
   "execution_count": null,
   "metadata": {
    "id": "Hwqy0Uw4peqZ"
   },
   "outputs": [],
   "source": [
    "!mono --version"
   ]
  },
  {
   "cell_type": "markdown",
   "metadata": {
    "id": "gJVFBhjCztEu"
   },
   "source": [
    "# Estruturas de Repetição"
   ]
  },
  {
   "cell_type": "markdown",
   "metadata": {
    "id": "8Xjl_5sbqbT8"
   },
   "source": [
    "## For"
   ]
  },
  {
   "cell_type": "code",
   "execution_count": null,
   "metadata": {
    "id": "lha0k9uOn8SM"
   },
   "outputs": [],
   "source": [
    "%%writefile loopFor.cs\n",
    "using System;\n",
    "namespace SampleFor\n",
    "{\n",
    "  public class Loop \n",
    "  {\n",
    "    static void Main(string[] args)\n",
    "    { \n",
    "      for(int i = 0; i < 10; i++)\n",
    "        Console.WriteLine(i);\n",
    "\n",
    "    } \n",
    "  }\n",
    "}\n"
   ]
  },
  {
   "cell_type": "code",
   "execution_count": null,
   "metadata": {
    "id": "NzGvMrF5oeVG"
   },
   "outputs": [],
   "source": [
    "!mcs loopFor.cs -out:loopFor"
   ]
  },
  {
   "cell_type": "code",
   "execution_count": null,
   "metadata": {
    "colab": {
     "base_uri": "https://localhost:8080/"
    },
    "executionInfo": {
     "elapsed": 416,
     "status": "ok",
     "timestamp": 1664816527434,
     "user": {
      "displayName": "Murilo Boratto",
      "userId": "13998345321799991370"
     },
     "user_tz": 180
    },
    "id": "yvjHAaRzomUR",
    "outputId": "087f6019-fb7e-4819-e153-a901cb936f9e"
   },
   "outputs": [],
   "source": [
    "!mono loopFor"
   ]
  },
  {
   "cell_type": "markdown",
   "metadata": {
    "id": "m022RDapqhTl"
   },
   "source": [
    "## While"
   ]
  },
  {
   "cell_type": "code",
   "execution_count": null,
   "metadata": {
    "colab": {
     "base_uri": "https://localhost:8080/"
    },
    "executionInfo": {
     "elapsed": 875,
     "status": "ok",
     "timestamp": 1664816791677,
     "user": {
      "displayName": "Murilo Boratto",
      "userId": "13998345321799991370"
     },
     "user_tz": 180
    },
    "id": "0y2s2tQSo3sr",
    "outputId": "24d15eef-102c-49a6-f002-0790da805760"
   },
   "outputs": [],
   "source": [
    "%%writefile loopWhile.cs\n",
    "using System;\n",
    "namespace SampleWhile\n",
    "{\n",
    "  public class Loop \n",
    "  {\n",
    "    static void Main(string[] args)\n",
    "    {\n",
    "      int numero = 0;\n",
    "\n",
    "      while(numero != 256) \n",
    "      {\n",
    "        Console.WriteLine (\"Número inválido!\");\n",
    "        numero = int.Parse(Console.ReadLine());\n",
    "      }\n",
    "      Console.WriteLine (\"Saiu do Loop!\"); \n",
    "   } \n",
    "  }\n",
    "}"
   ]
  },
  {
   "cell_type": "code",
   "execution_count": null,
   "metadata": {
    "id": "mxukG2j4pTib"
   },
   "outputs": [],
   "source": [
    "!mcs loopWhile.cs -out:loopWhile"
   ]
  },
  {
   "cell_type": "code",
   "execution_count": null,
   "metadata": {
    "colab": {
     "base_uri": "https://localhost:8080/"
    },
    "executionInfo": {
     "elapsed": 107670,
     "status": "ok",
     "timestamp": 1664816899756,
     "user": {
      "displayName": "Murilo Boratto",
      "userId": "13998345321799991370"
     },
     "user_tz": 180
    },
    "id": "sfmhVQwIpTQ9",
    "outputId": "ee31bf75-c7ec-4b89-90ec-76fa86616a64"
   },
   "outputs": [],
   "source": [
    "!mono loopWhile"
   ]
  },
  {
   "cell_type": "markdown",
   "metadata": {
    "id": "FG-mmLcXsMn9"
   },
   "source": [
    "## Do While"
   ]
  },
  {
   "cell_type": "code",
   "execution_count": null,
   "metadata": {
    "colab": {
     "base_uri": "https://localhost:8080/"
    },
    "executionInfo": {
     "elapsed": 406,
     "status": "ok",
     "timestamp": 1664817117535,
     "user": {
      "displayName": "Murilo Boratto",
      "userId": "13998345321799991370"
     },
     "user_tz": 180
    },
    "id": "Eu7AleeEsP0H",
    "outputId": "6cc8cbcd-a591-4144-c4ef-8ec259bad6c9"
   },
   "outputs": [],
   "source": [
    "%%writefile loopDoWhile.cs\n",
    "using System;\n",
    "namespace SampleDoWhile\n",
    "{\n",
    "  public class Loop \n",
    "  {\n",
    "     static void Main(string[] args)\n",
    "     {\n",
    "      int opcao;\n",
    "      \n",
    "      Console.WriteLine(\"1. Inclusão\");\n",
    "      Console.WriteLine(\"2. Alteração\");\n",
    "      Console.WriteLine(\"3. Exclusão\");\n",
    "\n",
    "      Console.WriteLine(\"Digite sua opção:\");\n",
    "\n",
    "      do \n",
    "      {\n",
    "        opcao = int.Parse(Console.ReadLine());\n",
    "\n",
    "        switch(opcao) \n",
    "        {\n",
    "         case 1:  Console.WriteLine(\"Escolheu inclusão\"); break;\n",
    "         case 2:  Console.WriteLine(\"Escolheu alteração\");break;\n",
    "         case 3:  Console.WriteLine(\"Escolheu exclusão\"); break;\n",
    "         default: Console.WriteLine(\"Opção inválida\");    break;\n",
    "        }\n",
    "      }while( (opcao>=1) && (opcao<=3) );\n",
    "   } \n",
    "  }\n",
    "}"
   ]
  },
  {
   "cell_type": "code",
   "execution_count": null,
   "metadata": {
    "id": "IBKZRaeas0f9"
   },
   "outputs": [],
   "source": [
    "!mcs loopDoWhile.cs -out:loopDoWhile"
   ]
  },
  {
   "cell_type": "code",
   "execution_count": null,
   "metadata": {
    "colab": {
     "base_uri": "https://localhost:8080/"
    },
    "executionInfo": {
     "elapsed": 32270,
     "status": "ok",
     "timestamp": 1664817159181,
     "user": {
      "displayName": "Murilo Boratto",
      "userId": "13998345321799991370"
     },
     "user_tz": 180
    },
    "id": "EtE1eTTus0VE",
    "outputId": "302d4015-ce7b-44fd-e7dd-1e627d15cbed"
   },
   "outputs": [],
   "source": [
    "!mono loopDoWhile"
   ]
  },
  {
   "cell_type": "markdown",
   "metadata": {
    "id": "iTHi-SXIwDpQ"
   },
   "source": [
    "## Break e Continue"
   ]
  },
  {
   "cell_type": "markdown",
   "metadata": {},
   "source": [
    "### Break"
   ]
  },
  {
   "cell_type": "code",
   "execution_count": null,
   "metadata": {
    "id": "kZBG2FZowH-O"
   },
   "outputs": [],
   "source": [
    "%%writefile loopBreak.cs\n",
    "using System;\n",
    "namespace Sample\n",
    "{\n",
    "  public class Loop \n",
    "  {\n",
    "    static void Main(string[] args)\n",
    "    {\n",
    "      for(int i = 1; i < 100; i++)\n",
    "      {\n",
    "         if (( i % 2 ) == 0)\n",
    "           break;\n",
    "\n",
    "         Console.WriteLine(i);\n",
    "      }\n",
    "    } \n",
    "  }\n",
    "}"
   ]
  },
  {
   "cell_type": "code",
   "execution_count": null,
   "metadata": {
    "id": "_8PTf9qRwiEp"
   },
   "outputs": [],
   "source": [
    "!mcs loopBreak.cs -out:loopBreak"
   ]
  },
  {
   "cell_type": "code",
   "execution_count": null,
   "metadata": {
    "id": "0h6u-4uEwib2"
   },
   "outputs": [],
   "source": [
    "!mono loopBreak"
   ]
  },
  {
   "cell_type": "markdown",
   "metadata": {},
   "source": [
    "### Continue"
   ]
  },
  {
   "cell_type": "code",
   "execution_count": null,
   "metadata": {
    "colab": {
     "base_uri": "https://localhost:8080/"
    },
    "executionInfo": {
     "elapsed": 738,
     "status": "ok",
     "timestamp": 1664817417487,
     "user": {
      "displayName": "Murilo Boratto",
      "userId": "13998345321799991370"
     },
     "user_tz": 180
    },
    "id": "CWuMtmyDxhuz",
    "outputId": "3db36db3-20e8-4352-f473-1f97178642e1"
   },
   "outputs": [],
   "source": [
    "%%writefile loopContinue.cs\n",
    "using System;\n",
    "namespace Sample\n",
    "{\n",
    "  public class Loop \n",
    "  {\n",
    "    static void Main(string[] args)\n",
    "    {\n",
    "       int i;\n",
    "       \n",
    "       for(i = 1; i < 100; i++)\n",
    "       {\n",
    "         if (( i % 2 ) == 0)\n",
    "           continue;\n",
    "\n",
    "         Console.WriteLine(i);\n",
    "       }\n",
    "   } \n",
    "  }\n",
    "}"
   ]
  },
  {
   "cell_type": "code",
   "execution_count": null,
   "metadata": {
    "id": "9sNLbT0ix1s5"
   },
   "outputs": [],
   "source": [
    "!mcs loopContinue.cs -out:loopContinue"
   ]
  },
  {
   "cell_type": "code",
   "execution_count": null,
   "metadata": {
    "id": "oKewlDd4x1eG"
   },
   "outputs": [],
   "source": [
    "!mono loopContinue"
   ]
  }
 ],
 "metadata": {
  "accelerator": "GPU",
  "colab": {
   "collapsed_sections": [
    "m022RDapqhTl",
    "FG-mmLcXsMn9",
    "51Znx-RidzxO"
   ],
   "provenance": []
  },
  "kernelspec": {
   "display_name": "Python 3 (ipykernel)",
   "language": "python",
   "name": "python3"
  },
  "language_info": {
   "codemirror_mode": {
    "name": "ipython",
    "version": 3
   },
   "file_extension": ".py",
   "mimetype": "text/x-python",
   "name": "python",
   "nbconvert_exporter": "python",
   "pygments_lexer": "ipython3",
   "version": "3.8.8"
  }
 },
 "nbformat": 4,
 "nbformat_minor": 4
}
