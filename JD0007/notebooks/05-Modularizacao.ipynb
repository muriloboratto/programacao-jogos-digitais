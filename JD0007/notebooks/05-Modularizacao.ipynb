{
 "cells": [
  {
   "cell_type": "markdown",
   "metadata": {
    "id": "xXATwZ8VxZG7"
   },
   "source": [
    "# Introdução à Linguagem de Programação (C$#$)\n",
    "\n",
    " Murilo Boratto$^1$\n",
    "\n",
    "$^1$ Colegiado de Jogos Digitais <br />\n",
    "     &nbsp;&nbsp;&nbsp; Departamento de Ciências Exatas e da Terra I <br />\n",
    "     &nbsp;&nbsp;&nbsp; Universidade do Estado da Bahia (UNEB), Salvador, Bahia, Brasil \n"
   ]
  },
  {
   "cell_type": "markdown",
   "metadata": {
    "id": "MyB9gzUjSGKc"
   },
   "source": [
    "# Instalação  C$#$"
   ]
  },
  {
   "cell_type": "markdown",
   "metadata": {
    "id": "orxl23v_xqVe"
   },
   "source": [
    "Este é o passo a passo de como instalar o C# em ambiente virtual do Colab, utilizando a implementação open source do C#, o mono, sem utilizar qualquer IDE."
   ]
  },
  {
   "cell_type": "code",
   "execution_count": null,
   "metadata": {
    "colab": {
     "base_uri": "https://localhost:8080/"
    },
    "executionInfo": {
     "elapsed": 39499,
     "status": "ok",
     "timestamp": 1668446233914,
     "user": {
      "displayName": "Murilo Boratto",
      "userId": "13998345321799991370"
     },
     "user_tz": 180
    },
    "id": "cIWeteLFbMdM",
    "outputId": "e2f85d3c-e5cd-4e7d-9c19-67361b69b5fc"
   },
   "outputs": [],
   "source": [
    "!sudo apt-get install mono-devel"
   ]
  },
  {
   "cell_type": "code",
   "execution_count": null,
   "metadata": {
    "id": "Hwqy0Uw4peqZ"
   },
   "outputs": [],
   "source": [
    "!mono --version"
   ]
  },
  {
   "cell_type": "markdown",
   "metadata": {
    "id": "IWD4YT28d_9d"
   },
   "source": [
    "# Modularização"
   ]
  },
  {
   "cell_type": "markdown",
   "metadata": {
    "id": "vlGQmS4zeSUu"
   },
   "source": [
    "## Área de um Círculo Sem Modularização"
   ]
  },
  {
   "cell_type": "code",
   "execution_count": null,
   "metadata": {
    "colab": {
     "base_uri": "https://localhost:8080/"
    },
    "executionInfo": {
     "elapsed": 552,
     "status": "ok",
     "timestamp": 1666031913264,
     "user": {
      "displayName": "Murilo Boratto",
      "userId": "13998345321799991370"
     },
     "user_tz": 180
    },
    "id": "QiAuf2EPeUh3",
    "outputId": "c5666192-aae8-490a-a640-5fc7385020f3"
   },
   "outputs": [],
   "source": [
    "%%writefile circulo.cs\n",
    "using System;\n",
    "\n",
    "namespace ComLineArg\n",
    "{\n",
    "  public class Geeks \n",
    "  {\n",
    "    static void Main(string[] args) \n",
    "    {\n",
    "     double raio, area;\n",
    "     Console.WriteLine(\"Usuário digite o raio do círculo:\");\n",
    "     raio = double.Parse(Console.ReadLine());\n",
    "     area  = 3.1415 * raio * raio;\n",
    "     Console.WriteLine(\"Área: {0}\", area);\n",
    "    } \n",
    "  }\n",
    "}"
   ]
  },
  {
   "cell_type": "code",
   "execution_count": null,
   "metadata": {
    "id": "09Yl-KnYhi17"
   },
   "outputs": [],
   "source": [
    "!mcs circulo.cs -out:circulo"
   ]
  },
  {
   "cell_type": "code",
   "execution_count": null,
   "metadata": {
    "colab": {
     "base_uri": "https://localhost:8080/"
    },
    "executionInfo": {
     "elapsed": 9221,
     "status": "ok",
     "timestamp": 1666031930597,
     "user": {
      "displayName": "Murilo Boratto",
      "userId": "13998345321799991370"
     },
     "user_tz": 180
    },
    "id": "yzniiuyLjBJI",
    "outputId": "1e7da6a2-f723-45a1-816c-ea96aef2da2c"
   },
   "outputs": [],
   "source": [
    "!mono circulo"
   ]
  },
  {
   "cell_type": "markdown",
   "metadata": {
    "id": "eXEw5iMZjZpf"
   },
   "source": [
    "## Área de um Círculo Com Modularização - [ Passagem por valor ]"
   ]
  },
  {
   "cell_type": "code",
   "execution_count": null,
   "metadata": {
    "colab": {
     "base_uri": "https://localhost:8080/"
    },
    "executionInfo": {
     "elapsed": 463,
     "status": "ok",
     "timestamp": 1666032084979,
     "user": {
      "displayName": "Murilo Boratto",
      "userId": "13998345321799991370"
     },
     "user_tz": 180
    },
    "id": "T9p1ZP6wjbPn",
    "outputId": "bbbfedb6-2363-46dd-c975-2f3c3d40e162"
   },
   "outputs": [],
   "source": [
    "%%writefile circuloModule.cs\n",
    "using System;\n",
    "\n",
    "namespace ComLineArg\n",
    "{\n",
    "   public class Geeks \n",
    "   {\n",
    "    static double calculaArea(double raio)     \n",
    "    {                                              \n",
    "      double area  = 3.1415 * raio * raio;\n",
    "      return area;\n",
    "    }\n",
    "\n",
    "    static void Main(string[] args)\n",
    "    {\n",
    "      double raio;\n",
    "      Console.WriteLine(\"Usuário digite o raio do círculo:\");\n",
    "      raio = double.Parse(Console.ReadLine());\n",
    "      double retorno = calculaArea(raio);\n",
    "      Console.WriteLine(\"Área: {0}\", retorno);\n",
    "    } \n",
    "  }\n",
    "}"
   ]
  },
  {
   "cell_type": "code",
   "execution_count": null,
   "metadata": {
    "id": "wSyqeM6HkQaf"
   },
   "outputs": [],
   "source": [
    "!mcs circuloModule.cs -out:circuloModule"
   ]
  },
  {
   "cell_type": "code",
   "execution_count": null,
   "metadata": {
    "colab": {
     "base_uri": "https://localhost:8080/"
    },
    "executionInfo": {
     "elapsed": 7941,
     "status": "ok",
     "timestamp": 1666032099943,
     "user": {
      "displayName": "Murilo Boratto",
      "userId": "13998345321799991370"
     },
     "user_tz": 180
    },
    "id": "QwgtyuEikTGD",
    "outputId": "7df052b8-e09a-49d7-cf17-72ee0d8815f2"
   },
   "outputs": [],
   "source": [
    "!mono circuloModule"
   ]
  },
  {
   "cell_type": "markdown",
   "metadata": {
    "id": "be4d26lDmh9-"
   },
   "source": [
    "## Construção da Matriz com Dados Aleatórios - [ Passagem por Referência ]"
   ]
  },
  {
   "cell_type": "code",
   "execution_count": null,
   "metadata": {
    "colab": {
     "base_uri": "https://localhost:8080/"
    },
    "executionInfo": {
     "elapsed": 535,
     "status": "ok",
     "timestamp": 1666032801851,
     "user": {
      "displayName": "Murilo Boratto",
      "userId": "13998345321799991370"
     },
     "user_tz": 180
    },
    "id": "7-9YhBUwmwXX",
    "outputId": "0b76244c-19e8-4727-968d-54aaf6019b4b"
   },
   "outputs": [],
   "source": [
    "%%writefile matrizAleatoria.cs\n",
    "using System;\n",
    "\n",
    "namespace CSharpDatastructuresAlgorithms\n",
    "{ \n",
    "  public class RepositorioMatrizes\n",
    "  {  \n",
    "    static void MatrizAleatoria(int[,] matriz, int n)\n",
    "    {\n",
    "       Random rnd = new Random();\n",
    "       \n",
    "       for(int linha = 0; linha < n; linha++)\n",
    "         for(int coluna = 0; coluna < n; coluna++)    \n",
    "            matriz[linha,coluna] =  rnd.Next(1,100);  \n",
    "    }\n",
    "\n",
    "    static void ImprimirMatriz(int[,] matriz, int n)\n",
    "    {\n",
    "        for(int linha = 0; linha < n; linha++)\n",
    "        {\n",
    "          for(int coluna = 0; coluna < n; coluna++)    \n",
    "            Console.Write(\"{0}\\t\", matriz[linha,coluna]);   \n",
    "          \n",
    "          Console.Write(\"\\n\");   \n",
    "        }\n",
    "  \n",
    "        Console.Write(\"\\n\"); \n",
    "    }\n",
    "\n",
    "    static void Main(string[] args)\n",
    "    {\n",
    "      int[,] matriz = new int[4, 4];\n",
    "      int n = 4;\n",
    "\n",
    "      MatrizAleatoria(matriz, n);\n",
    "      ImprimirMatriz(matriz, n);\n",
    "    }  \n",
    "  }\n",
    "}"
   ]
  },
  {
   "cell_type": "code",
   "execution_count": null,
   "metadata": {
    "id": "WhkF9EsOnmG3"
   },
   "outputs": [],
   "source": [
    "!mcs matrizAleatoria.cs -out:matrizAleatoria"
   ]
  },
  {
   "cell_type": "code",
   "execution_count": null,
   "metadata": {
    "colab": {
     "base_uri": "https://localhost:8080/"
    },
    "executionInfo": {
     "elapsed": 855,
     "status": "ok",
     "timestamp": 1666032809690,
     "user": {
      "displayName": "Murilo Boratto",
      "userId": "13998345321799991370"
     },
     "user_tz": 180
    },
    "id": "ZMLNU-tWnvUJ",
    "outputId": "34fdd850-b979-4aa2-f67b-f8af6261cdc0"
   },
   "outputs": [],
   "source": [
    "!mono matrizAleatoria"
   ]
  }
 ],
 "metadata": {
  "accelerator": "GPU",
  "colab": {
   "collapsed_sections": [
    "m022RDapqhTl",
    "FG-mmLcXsMn9",
    "51Znx-RidzxO"
   ],
   "provenance": []
  },
  "kernelspec": {
   "display_name": "Python 3 (ipykernel)",
   "language": "python",
   "name": "python3"
  },
  "language_info": {
   "codemirror_mode": {
    "name": "ipython",
    "version": 3
   },
   "file_extension": ".py",
   "mimetype": "text/x-python",
   "name": "python",
   "nbconvert_exporter": "python",
   "pygments_lexer": "ipython3",
   "version": "3.8.8"
  }
 },
 "nbformat": 4,
 "nbformat_minor": 4
}
