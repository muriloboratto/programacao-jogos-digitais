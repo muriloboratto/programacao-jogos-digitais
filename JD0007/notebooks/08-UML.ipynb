{
 "cells": [
  {
   "cell_type": "markdown",
   "metadata": {
    "id": "xXATwZ8VxZG7"
   },
   "source": [
    "# Introdução à Linguagem de Programação (C$#$)\n",
    "\n",
    " Murilo Boratto$^1$\n",
    "\n",
    "$^1$ Colegiado de Jogos Digitais <br />\n",
    "     &nbsp;&nbsp;&nbsp; Departamento de Ciências Exatas e da Terra I <br />\n",
    "     &nbsp;&nbsp;&nbsp; Universidade do Estado da Bahia (UNEB), Salvador, Bahia, Brasil \n"
   ]
  },
  {
   "cell_type": "markdown",
   "metadata": {
    "id": "MyB9gzUjSGKc"
   },
   "source": [
    "# Instalação  C$#$"
   ]
  },
  {
   "cell_type": "markdown",
   "metadata": {
    "id": "orxl23v_xqVe"
   },
   "source": [
    "Este é o passo a passo de como instalar o C# em ambiente virtual do Colab, utilizando a implementação open source do C#, o mono, sem utilizar qualquer IDE."
   ]
  },
  {
   "cell_type": "code",
   "execution_count": null,
   "metadata": {
    "colab": {
     "base_uri": "https://localhost:8080/"
    },
    "executionInfo": {
     "elapsed": 39499,
     "status": "ok",
     "timestamp": 1668446233914,
     "user": {
      "displayName": "Murilo Boratto",
      "userId": "13998345321799991370"
     },
     "user_tz": 180
    },
    "id": "cIWeteLFbMdM",
    "outputId": "e2f85d3c-e5cd-4e7d-9c19-67361b69b5fc"
   },
   "outputs": [],
   "source": [
    "!sudo apt-get install mono-devel"
   ]
  },
  {
   "cell_type": "code",
   "execution_count": null,
   "metadata": {
    "id": "Hwqy0Uw4peqZ"
   },
   "outputs": [],
   "source": [
    "!mono --version"
   ]
  },
  {
   "cell_type": "markdown",
   "metadata": {
    "id": "FydICKJCEwAe"
   },
   "source": [
    "# Modelagem Orientada à Objeto"
   ]
  },
  {
   "cell_type": "markdown",
   "metadata": {
    "id": "Tc0CUB9V7DZm"
   },
   "source": [
    "## Diagrama de Classes e o Paradigma da Orientação a Objetos usando UML"
   ]
  },
  {
   "cell_type": "markdown",
   "metadata": {
    "id": "51Znx-RidzxO"
   },
   "source": [
    "### O que é o UML?"
   ]
  },
  {
   "cell_type": "markdown",
   "metadata": {},
   "source": [
    "Unified Modeling Language (UML) é uma linguagem utizada para visualizar as relações de uma aplicação Orientada à Objetos. Um diagrama UML é perfeito para projetar um produto e focar em partes importantes, como um design ergonômico antes da criação do protótipo. É também uma parte importante da documentação de um projeto."
   ]
  },
  {
   "cell_type": "markdown",
   "metadata": {},
   "source": [
    "### O que é um Diagrama de Classe?"
   ]
  },
  {
   "cell_type": "markdown",
   "metadata": {},
   "source": [
    "Um diagrama de classes é uma estrutura estática usada na engenharia de software. Um diagrama de classes mostra as classes, atributos, operações e o relacionamento entre eles. Isso ajuda os programadores a desenvolver um código Orientado à Objetos. Também é usado para descrever, visualizar e documentar diferentes facetas de uma aplicação.\n",
    "\n",
    "Diagramas de classes são os únicos diagramas UML que podem ser mapeados diretamente com linguagens orientadas a objetos. É por isso que eles são frequentemente usados na modelagem de sistemas orientados a objetos e são amplamente utilizados durante a construção de sistemas orientados a objetos.\n",
    "\n",
    "Os diagramas de classes são um dos diagramas mais importantes na codificação, pois formam a base para os diagramas de componentes e de implantação e descrevem as responsabilidades em um sistema. Junto com isso, eles são usados para a análise e projeto de um aplicativo e também são usados em engenharia reversa e direta."
   ]
  },
  {
   "cell_type": "markdown",
   "metadata": {},
   "source": [
    "### Qual a notação de um Diagrama de Classe?"
   ]
  },
  {
   "cell_type": "markdown",
   "metadata": {},
   "source": [
    "Existem três partes principais de um diagrama de classes, conforme mostrado na imagem abaixo:\n",
    "    \n",
    "- Nome da Classe\n",
    "- Atributos da Classe\n",
    "- Metódos da Classe"
   ]
  },
  {
   "cell_type": "markdown",
   "metadata": {},
   "source": [
    "<center><img src=\"images/diagrama-classe-UML-2.png\" width=\"500\">"
   ]
  },
  {
   "cell_type": "markdown",
   "metadata": {},
   "source": [
    "Um único retângulo é usado para representar a classe conforme mostrado acima. O retângulo é dividido em três compartimentos, sendo o mais alto o nome da classe, os atributos no meio e os métodos na parte inferior."
   ]
  },
  {
   "cell_type": "markdown",
   "metadata": {},
   "source": [
    "#### Nome da Classe"
   ]
  },
  {
   "cell_type": "markdown",
   "metadata": {},
   "source": [
    "O nome da classe é importante para a representação gráfica. Deve ser escrito em negrito no compartimento superior e começar com letra maiúscula. Além disso, uma classe abstrata deve ser escrita em itálico."
   ]
  },
  {
   "cell_type": "markdown",
   "metadata": {},
   "source": [
    "#### Atributos"
   ]
  },
  {
   "cell_type": "markdown",
   "metadata": {},
   "source": [
    "Os atributos são escritos no compartimento do meio e listam todas as propriedades do objeto que está sendo modelado. Você pode simplesmente adicionar novos atributos ou derivar novos atributos de atributos já listados. Os atributos devem ser significativos e geralmente são usados com o fator de visibilidade que descreve a acessibilidade de um atributo."
   ]
  },
  {
   "cell_type": "markdown",
   "metadata": {},
   "source": [
    "#### Métodos"
   ]
  },
  {
   "cell_type": "markdown",
   "metadata": {},
   "source": [
    "Métodos são processos que uma classe sabe realizar. Você não precisa mostrar métodos semelhantes a atributos porque já se pode deduzir isso das informações."
   ]
  },
  {
   "cell_type": "markdown",
   "metadata": {},
   "source": [
    "### Representações dos Relacionamentos entre as Classes"
   ]
  },
  {
   "cell_type": "markdown",
   "metadata": {},
   "source": [
    "Para criar um diagrama de classes, a próxima etapa é construir relacionamentos. Existem tipos de relacionamentos referentes a OO os quais são mostrados a seguir:"
   ]
  },
  {
   "cell_type": "markdown",
   "metadata": {},
   "source": [
    "#### Generalizações"
   ]
  },
  {
   "cell_type": "markdown",
   "metadata": {},
   "source": [
    "As generalizações costumam ser conhecidas como herança porque vinculam uma subclasse à sua superclasse. O diagrama de classes permite que uma subclasse herde de várias superclasses, mas não pode ser usado para modelar a implementação da interface. "
   ]
  },
  {
   "cell_type": "markdown",
   "metadata": {},
   "source": [
    "A seguir um exemplo para tipos de contas em um banco:"
   ]
  },
  {
   "cell_type": "markdown",
   "metadata": {},
   "source": [
    "<center><img src=\"images/contas.png\" width=\"300\">"
   ]
  },
  {
   "cell_type": "markdown",
   "metadata": {},
   "source": [
    "#### Associações"
   ]
  },
  {
   "cell_type": "markdown",
   "metadata": {},
   "source": [
    "A associação mostra um relacionamento estático entre duas entidades. Um exemplo seria a associação entre pessoa e uma empresa seria dado pelo estatus “trabalha para”:"
   ]
  },
  {
   "cell_type": "markdown",
   "metadata": {},
   "source": [
    "<center><img src=\"images/associacao-2.png\" width=\"500\">"
   ]
  },
  {
   "cell_type": "markdown",
   "metadata": {},
   "source": [
    "#### Agregação"
   ]
  },
  {
   "cell_type": "markdown",
   "metadata": {},
   "source": [
    "A dependência mostra que uma classe depende de outra. Mudança em uma classe criará mudança em outra classe. Por exemplo, um PC possui uma CPU, um teclado, um monitor e um mouse."
   ]
  },
  {
   "cell_type": "markdown",
   "metadata": {},
   "source": [
    "<center><img src=\"images/dependencia-2.png\" width=\"500\">"
   ]
  },
  {
   "cell_type": "markdown",
   "metadata": {},
   "source": [
    "No relacionamento de agregação o diamante indica a classe Todo (a que agrega)."
   ]
  },
  {
   "cell_type": "markdown",
   "metadata": {},
   "source": [
    "<center><img src=\"../images/dependencia-2.png\" width=\"500\">"
   ]
  },
  {
   "cell_type": "markdown",
   "metadata": {},
   "source": [
    "#### Herança"
   ]
  },
  {
   "cell_type": "markdown",
   "metadata": {},
   "source": [
    "<center><img src=\"images/heranca.png\" width=\"500\">"
   ]
  },
  {
   "cell_type": "markdown",
   "metadata": {},
   "source": [
    "#### Interfaces"
   ]
  },
  {
   "cell_type": "markdown",
   "metadata": {},
   "source": [
    "Uma interface define um comportamento obrigatório que alguma classe deve possuir. As interfaces permitem conhecer um determinado elemento, escondendo os seus detalhes internos, por exemplo: os detalhes de implementação. Uma interface é realizada (ou implementada) por uma ou mais classes, as quais prometem implementar todos os métodos nela especificados."
   ]
  },
  {
   "cell_type": "markdown",
   "metadata": {},
   "source": [
    "<center><img src=\"../images/interface-1.png\" width=\"400\">"
   ]
  },
  {
   "cell_type": "markdown",
   "metadata": {},
   "source": [
    "#### Classes Abstratas"
   ]
  },
  {
   "cell_type": "markdown",
   "metadata": {},
   "source": [
    "Uma classe abstrata não pode ser instanciada, sendo assim, sua finalidade fica restrita a definir comportamentos para\n",
    "que outras classes possam herdar. E sempre a sua representação será feita através da grafia em itálico."
   ]
  },
  {
   "cell_type": "markdown",
   "metadata": {},
   "source": [
    "<center><img src=\"images/abstrata-1.png\" width=\"230\">"
   ]
  },
  {
   "cell_type": "markdown",
   "metadata": {},
   "source": [
    "### Exemplos de Diagramas de Classes"
   ]
  },
  {
   "cell_type": "markdown",
   "metadata": {},
   "source": [
    "#### Diagrama de Classe Caixa Eletrônico"
   ]
  },
  {
   "cell_type": "markdown",
   "metadata": {},
   "source": [
    "Este diagrama de classes modela as operações em um caixa eletrônico (ATM) mapeando a estrutura e os atributos de como uma caixa eletrônica funciona. Ele também mostra o relacionamento entre várias classes. Você pode usar este modelo como está ou modificá-lo de acordo com suas necessidades."
   ]
  },
  {
   "cell_type": "markdown",
   "metadata": {},
   "source": [
    "<center><img src=\"images/diagrama1.png\" width=\"600\">"
   ]
  },
  {
   "cell_type": "markdown",
   "metadata": {},
   "source": [
    "#### Diagrama de Classes de um Sistema de Gestão de um Hotel"
   ]
  },
  {
   "cell_type": "markdown",
   "metadata": {},
   "source": [
    "Este diagrama de classe de gerenciamento de hotel personalizar facilmente as classes que gerenciam um hotel."
   ]
  },
  {
   "cell_type": "markdown",
   "metadata": {},
   "source": [
    "<center><img src=\"images/diagrama2.png\" width=\"800\">"
   ]
  },
  {
   "cell_type": "markdown",
   "metadata": {},
   "source": [
    "## Exercício Propostos"
   ]
  },
  {
   "cell_type": "markdown",
   "metadata": {},
   "source": [
    "### ☆ `Aposta Casa Lotérica`"
   ]
  },
  {
   "cell_type": "markdown",
   "metadata": {},
   "source": [
    "Carlos aposta toda semana na Loteria, em jogos como quina, megasena e lotomania. São vários cartões por semana. Na hora de conferir é uma loucura. Certa vez, quase que ele confere o cartão errado. Para resolver isso, ele quer desenvolver uma aplicação que cadastre os cartões apostados e o resultado de um concurso, apresentando o relatório final com os números acertados por cartão e o valor do prêmio, se houver. Sendo assim: \n",
    "\n",
    "- Desenhe o diagrama de classe completo para este problema;\n",
    "- Implemente em C# utilizando os conceitos de OO."
   ]
  },
  {
   "cell_type": "markdown",
   "metadata": {},
   "source": [
    "### ☆ `Jogo da Velha`"
   ]
  },
  {
   "cell_type": "markdown",
   "metadata": {},
   "source": [
    "Amélia gosta de desenvolver pequenos jogos para os seus filhos. O último que ela desenvolveu foi o `jogo da velha`. Para isso, ela relacionou as regras do jogo a fim de facilitar sua implementação. Haverá sempre um jogador virtual que será o próprio sistema, na figura do computador. O jogador real poderá escolher o nome do seu adversário. Além disso, o jogador real escolhe o símbolo que deseja usar (círculo ou cruz).\n",
    "\n",
    "As regras são:\n",
    "\n",
    "- Traçam-se duas linhas verticais e duas linhas horizontais, de modo a criar nove quadrados de tamanhos iguais.\n",
    "\n",
    "- Um jogador joga desenhando um círculo e o seu adversário uma cruz.\n",
    "\n",
    "- O objetivo é cada jogador desenhar seu símbolo num quadrado vazio, tentando marcar uma linha de três símbolos iguais na horizontal, vertical ou diagonal; ou evitar que o adversário consiga essa linha de símbolos.\n",
    "\n",
    "Cenário Principal:\n",
    "\n",
    "- O sistema prepara a lista de todos os jogadores cadastrados.\n",
    "- usuário informa:\n",
    "   - O nome do jogador físico, selecionado de uma lista preexistente.\n",
    "   - O símbolo usado pelo jogador lísico (círculo ou cruz).\n",
    "   - O nome do jogador virtual, selecionado de uma lista preexistente.\n",
    "   - O sistema associa automaticamente o símbolo usado pelo jogador virtual (círculo ou cruz).\n",
    "- O sistema define o jogador 1 como sendo o jogador físico e zera seu score.\n",
    "- O sistema define o jogador 2 como sendo o jogador virtual e zera seu score.\n",
    "- Para cada partida, altemadamente, jogador físico e virtual fazem a sua jogada."
   ]
  },
  {
   "cell_type": "markdown",
   "metadata": {},
   "source": [
    "### ☆ `Pediatria`"
   ]
  },
  {
   "cell_type": "markdown",
   "metadata": {},
   "source": [
    "Dra. Janete é Pediatra e tem três consultórios em bairros distintos, onde atende em horários diferentes. Ana, sua secretária, trabalha nos três consultórios. Para que a marcação de consultas seja centralizada, Ana tem que carregar as três agendas de um lado para outro. Dra. Janete contratou um analista para lhe desenvolver um sistema que controle a marcação de consultas e a ficha dos pacientes. Para os pacientes, é preciso controlar: \n",
    "\n",
    "- nome, \n",
    "- endereço, \n",
    "- telefones de contato, \n",
    "- data de nascimento, \n",
    "- data da primeira consulta, \n",
    "- e-mail, \n",
    "- se é particular ou conveniado a plano de saúde. \n",
    "\n",
    "No caso de ser conveniado, registrar qual é o plano de saúde. Para cada plano de saúde credenciado é preciso controlar o limite de consultas no mês, por paciente. Dra. Janete atende no consultório do IGUATEMI às segundas e sextas, de 9h às 18h. Na PITUBA, ela atende terça e quarta de 10h as 18h. Na quinta, ela atende em LAURO DE FREITAS, de 10h às 18h. O intervalo das consultas é de trinta minutos. O horário de almoço é sempre de 12h30 às 13h30. Só são permitidos três encaixes por dia. Para clientes novos, Ana anota o nome do cliente e o seu telefone. É preciso identificar se uma consulta é de revisão, como por exemplo para entrega de exames. Nesse caso, ela não é cobrada. A marcação de consultas deve considerar uma data futura limite."
   ]
  },
  {
   "cell_type": "markdown",
   "metadata": {},
   "source": [
    "## Referências Bibliográficas"
   ]
  },
  {
   "cell_type": "markdown",
   "metadata": {},
   "source": [
    "* MELO, AC. Exercitando Modelagem em UML. Rio de Janeiro: Brasport, 9788574522548, 2006.\n"
   ]
  }
 ],
 "metadata": {
  "accelerator": "GPU",
  "colab": {
   "collapsed_sections": [
    "m022RDapqhTl",
    "FG-mmLcXsMn9",
    "51Znx-RidzxO"
   ],
   "provenance": []
  },
  "kernelspec": {
   "display_name": "Python 3 (ipykernel)",
   "language": "python",
   "name": "python3"
  },
  "language_info": {
   "codemirror_mode": {
    "name": "ipython",
    "version": 3
   },
   "file_extension": ".py",
   "mimetype": "text/x-python",
   "name": "python",
   "nbconvert_exporter": "python",
   "pygments_lexer": "ipython3",
   "version": "3.8.8"
  }
 },
 "nbformat": 4,
 "nbformat_minor": 4
}
