{
 "cells": [
  {
   "cell_type": "markdown",
   "metadata": {
    "id": "xXATwZ8VxZG7"
   },
   "source": [
    "# [JD0007] Introdução à Linguagem de Programação (C$#$)\n",
    "\n",
    " Murilo Boratto$^1$\n",
    "\n",
    "$^1$ Colegiado de Jogos Digitais <br />\n",
    "     &nbsp;&nbsp;&nbsp; Departamento de Ciências Exatas e da Terra I <br />\n",
    "     &nbsp;&nbsp;&nbsp; Universidade do Estado da Bahia (UNEB), Salvador, Bahia, Brasil \n"
   ]
  },
  {
   "cell_type": "markdown",
   "metadata": {
    "id": "MyB9gzUjSGKc"
   },
   "source": [
    "# Instalação  C$#$"
   ]
  },
  {
   "cell_type": "markdown",
   "metadata": {
    "id": "orxl23v_xqVe"
   },
   "source": [
    "Este é o passo a passo de como instalar o C# em ambiente virtual do Colab, utilizando a implementação open source do C#, o mono, sem utilizar qualquer IDE."
   ]
  },
  {
   "cell_type": "code",
   "execution_count": null,
   "metadata": {
    "colab": {
     "base_uri": "https://localhost:8080/"
    },
    "executionInfo": {
     "elapsed": 39499,
     "status": "ok",
     "timestamp": 1668446233914,
     "user": {
      "displayName": "Murilo Boratto",
      "userId": "13998345321799991370"
     },
     "user_tz": 180
    },
    "id": "cIWeteLFbMdM",
    "outputId": "e2f85d3c-e5cd-4e7d-9c19-67361b69b5fc"
   },
   "outputs": [],
   "source": [
    "!sudo apt-get install mono-devel"
   ]
  },
  {
   "cell_type": "code",
   "execution_count": null,
   "metadata": {
    "id": "Hwqy0Uw4peqZ"
   },
   "outputs": [],
   "source": [
    "!mono --version"
   ]
  },
  {
   "cell_type": "markdown",
   "metadata": {
    "id": "823d_hqHqTdN"
   },
   "source": [
    "## Hello World!"
   ]
  },
  {
   "cell_type": "code",
   "execution_count": null,
   "metadata": {
    "colab": {
     "base_uri": "https://localhost:8080/"
    },
    "executionInfo": {
     "elapsed": 389,
     "status": "ok",
     "timestamp": 1664816356131,
     "user": {
      "displayName": "Murilo Boratto",
      "userId": "13998345321799991370"
     },
     "user_tz": 180
    },
    "id": "2hTtR30ikC5N",
    "outputId": "0446b1ef-6414-405f-e509-70f29f74ea09"
   },
   "outputs": [],
   "source": [
    "%%writefile hello.cs\n",
    "using System;\n",
    "\n",
    "public class Program\n",
    "{\n",
    "    public static void Main()\n",
    "    {\n",
    "      Console.WriteLine(\"Hello World!\");\n",
    "    }\n",
    "}"
   ]
  },
  {
   "cell_type": "code",
   "execution_count": null,
   "metadata": {
    "id": "FTVBh76aSywY"
   },
   "outputs": [],
   "source": [
    "!mcs hello.cs -out:hello"
   ]
  },
  {
   "cell_type": "code",
   "execution_count": null,
   "metadata": {
    "id": "TCAWmPrRYc6W"
   },
   "outputs": [],
   "source": [
    "!mono hello"
   ]
  },
  {
   "cell_type": "markdown",
   "metadata": {
    "id": "gJVFBhjCztEu"
   },
   "source": [
    "# Entradas e Saídas"
   ]
  },
  {
   "cell_type": "markdown",
   "metadata": {},
   "source": [
    "## Armazenamento nas Variáveis"
   ]
  },
  {
   "cell_type": "code",
   "execution_count": null,
   "metadata": {},
   "outputs": [],
   "source": [
    "%%writefile variaveis.cs\n",
    "using System;\n",
    "\n",
    "namespace myApp\n",
    "{\n",
    " class Program \n",
    " {\n",
    "   static void Main() \n",
    "   {\n",
    "      float A = 5f;\n",
    "      float B = 2.5f;\n",
    "      float C = 2f;\n",
    "\n",
    "      Console.WriteLine(\"A + B * C = {0}\", A + B * C);\n",
    "      Console.WriteLine(\"(A + B) * C = {0}\", (A + B) * C);\n",
    "      Console.WriteLine(\"A + C * B = {0}\", A + C * B);\n",
    "      Console.WriteLine(\"A + B * C /2 = {0}\", A + B * C/2);\n",
    "      Console.WriteLine(\"(A + B * C) /2 = {0}\", (A + B * C)/2);\n",
    "       \n",
    "   }\n",
    " }\n",
    "}"
   ]
  },
  {
   "cell_type": "code",
   "execution_count": null,
   "metadata": {},
   "outputs": [],
   "source": [
    "!mcs variaveis.cs -out:variaveis"
   ]
  },
  {
   "cell_type": "code",
   "execution_count": null,
   "metadata": {},
   "outputs": [],
   "source": [
    "!mono variaveis"
   ]
  },
  {
   "cell_type": "markdown",
   "metadata": {},
   "source": [
    "## Altura"
   ]
  },
  {
   "cell_type": "code",
   "execution_count": null,
   "metadata": {},
   "outputs": [],
   "source": [
    "%%writefile altura.cs\n",
    "using System;\n",
    "\n",
    "namespace myApp\n",
    "{\n",
    " class Program \n",
    " {\n",
    "   static void Main() \n",
    "   {\n",
    "      float altura;\n",
    "       \n",
    "      Console.WriteLine(\"Informe sua altura: \");\n",
    "      altura = float.Parse(Console.ReadLine());\n",
    "       \n",
    "      Console.WriteLine(\"Altura digitada foi: {0}\", altura);\n",
    "   \n",
    "   }\n",
    " }\n",
    "}"
   ]
  },
  {
   "cell_type": "code",
   "execution_count": null,
   "metadata": {},
   "outputs": [],
   "source": [
    "!mcs altura.cs -out:altura"
   ]
  },
  {
   "cell_type": "code",
   "execution_count": null,
   "metadata": {},
   "outputs": [],
   "source": [
    "!mono altura"
   ]
  },
  {
   "cell_type": "markdown",
   "metadata": {
    "id": "8Xjl_5sbqbT8"
   },
   "source": [
    "## Gasolina"
   ]
  },
  {
   "cell_type": "markdown",
   "metadata": {},
   "source": [
    "Escreva um programa capaz de calcular o **preço médio da gasolina** considerando três postos de \n",
    "combustível de Salvador. Solicitando ao usuário que informe o valor da gasolina em cada\n",
    "um dos três postos."
   ]
  },
  {
   "cell_type": "code",
   "execution_count": null,
   "metadata": {
    "id": "lha0k9uOn8SM"
   },
   "outputs": [],
   "source": [
    "%%writefile gasolina.cs\n",
    "using System;\n",
    "\n",
    "namespace myApp\n",
    "{ \n",
    "  class Gasolina\n",
    "  {\n",
    "    static void Main()\n",
    "    {\n",
    "        float valorPosto1, valorPosto2, valorPosto3, mediaReaisPrecosGasolinas;\n",
    "\n",
    "        Console.WriteLine (\"Entre com o valor da Gasolina do Posto 1:\");\n",
    "        valorPosto1 = float.Parse(Console.ReadLine());  \n",
    "\n",
    "        Console.WriteLine (\"Entre com o valor da Gasolina do Posto 2:\");\n",
    "        valorPosto2 = float.Parse(Console.ReadLine()); \n",
    "\n",
    "        Console.WriteLine (\"Entre com o valor da Gasolina do Posto 3:\");\n",
    "        valorPosto3 = float.Parse(Console.ReadLine()); \n",
    "\n",
    "        mediaReaisPrecosGasolinas = (valorPosto1 + valorPosto2 + valorPosto3)/3;\n",
    "\n",
    "        Console.WriteLine (\"Valor Médio da Gasolina é (R$): {0}\",  mediaReaisPrecosGasolinas);     \n",
    "    }\n",
    "  }\n",
    "}"
   ]
  },
  {
   "cell_type": "code",
   "execution_count": null,
   "metadata": {
    "id": "NzGvMrF5oeVG"
   },
   "outputs": [],
   "source": [
    "!mcs gasolina.cs -out:gasolina"
   ]
  },
  {
   "cell_type": "code",
   "execution_count": null,
   "metadata": {
    "colab": {
     "base_uri": "https://localhost:8080/"
    },
    "executionInfo": {
     "elapsed": 416,
     "status": "ok",
     "timestamp": 1664816527434,
     "user": {
      "displayName": "Murilo Boratto",
      "userId": "13998345321799991370"
     },
     "user_tz": 180
    },
    "id": "yvjHAaRzomUR",
    "outputId": "087f6019-fb7e-4819-e153-a901cb936f9e"
   },
   "outputs": [],
   "source": [
    "!mono gasolina"
   ]
  },
  {
   "cell_type": "markdown",
   "metadata": {
    "id": "m022RDapqhTl"
   },
   "source": [
    "## Idade"
   ]
  },
  {
   "cell_type": "markdown",
   "metadata": {},
   "source": [
    "Escreva um programa que pergunte o **nome** e a **idade** de um individuo e imprima (aproximadamente) **quantos dias de vida ele possui**."
   ]
  },
  {
   "cell_type": "code",
   "execution_count": null,
   "metadata": {
    "colab": {
     "base_uri": "https://localhost:8080/"
    },
    "executionInfo": {
     "elapsed": 875,
     "status": "ok",
     "timestamp": 1664816791677,
     "user": {
      "displayName": "Murilo Boratto",
      "userId": "13998345321799991370"
     },
     "user_tz": 180
    },
    "id": "0y2s2tQSo3sr",
    "outputId": "24d15eef-102c-49a6-f002-0790da805760"
   },
   "outputs": [],
   "source": [
    "%%writefile idade.cs\n",
    "using System;\n",
    "\n",
    "namespace myApp\n",
    "{ \n",
    "  class Idade\n",
    "  {  \n",
    "    static void Main()\n",
    "    {\n",
    "        string nome;\n",
    "        int idade, numeroDiasTerra;\n",
    " \n",
    "        Console.Write(\"Digite o nome: \");\n",
    "        nome = Console.ReadLine();\n",
    " \n",
    "        Console.Write(\"Digite a idade: \");\n",
    "        idade = int.Parse(Console.ReadLine());\n",
    " \n",
    "        numeroDiasTerra = idade * 365;  \n",
    "  \n",
    "        Console.WriteLine(\"{0}  você tem  {1} dias de vida na terra\", nome, numeroDiasTerra);      \n",
    "    }\n",
    "  }\n",
    "}"
   ]
  },
  {
   "cell_type": "code",
   "execution_count": null,
   "metadata": {
    "id": "mxukG2j4pTib"
   },
   "outputs": [],
   "source": [
    "!mcs idade.cs -out:idade"
   ]
  },
  {
   "cell_type": "code",
   "execution_count": null,
   "metadata": {
    "colab": {
     "base_uri": "https://localhost:8080/"
    },
    "executionInfo": {
     "elapsed": 107670,
     "status": "ok",
     "timestamp": 1664816899756,
     "user": {
      "displayName": "Murilo Boratto",
      "userId": "13998345321799991370"
     },
     "user_tz": 180
    },
    "id": "sfmhVQwIpTQ9",
    "outputId": "ee31bf75-c7ec-4b89-90ec-76fa86616a64"
   },
   "outputs": [],
   "source": [
    "!mono idade"
   ]
  }
 ],
 "metadata": {
  "accelerator": "GPU",
  "colab": {
   "collapsed_sections": [
    "m022RDapqhTl",
    "FG-mmLcXsMn9",
    "51Znx-RidzxO"
   ],
   "provenance": []
  },
  "kernelspec": {
   "display_name": "Python 3 (ipykernel)",
   "language": "python",
   "name": "python3"
  },
  "language_info": {
   "codemirror_mode": {
    "name": "ipython",
    "version": 3
   },
   "file_extension": ".py",
   "mimetype": "text/x-python",
   "name": "python",
   "nbconvert_exporter": "python",
   "pygments_lexer": "ipython3",
   "version": "3.8.8"
  }
 },
 "nbformat": 4,
 "nbformat_minor": 4
}
