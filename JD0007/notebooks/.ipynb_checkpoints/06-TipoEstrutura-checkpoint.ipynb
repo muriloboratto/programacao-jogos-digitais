{
 "cells": [
  {
   "cell_type": "markdown",
   "metadata": {
    "id": "xXATwZ8VxZG7"
   },
   "source": [
    "# Introdução à Linguagem de Programação (C$#$)\n",
    "\n",
    " Murilo Boratto$^1$\n",
    "\n",
    "$^1$ Colegiado de Jogos Digitais <br />\n",
    "     &nbsp;&nbsp;&nbsp; Departamento de Ciências Exatas e da Terra I <br />\n",
    "     &nbsp;&nbsp;&nbsp; Universidade do Estado da Bahia (UNEB), Salvador, Bahia, Brasil \n"
   ]
  },
  {
   "cell_type": "markdown",
   "metadata": {
    "id": "MyB9gzUjSGKc"
   },
   "source": [
    "# Instalação  C$#$"
   ]
  },
  {
   "cell_type": "markdown",
   "metadata": {
    "id": "orxl23v_xqVe"
   },
   "source": [
    "Este é o passo a passo de como instalar o C# em ambiente virtual do Colab, utilizando a implementação open source do C#, o mono, sem utilizar qualquer IDE."
   ]
  },
  {
   "cell_type": "code",
   "execution_count": null,
   "metadata": {
    "colab": {
     "base_uri": "https://localhost:8080/"
    },
    "executionInfo": {
     "elapsed": 39499,
     "status": "ok",
     "timestamp": 1668446233914,
     "user": {
      "displayName": "Murilo Boratto",
      "userId": "13998345321799991370"
     },
     "user_tz": 180
    },
    "id": "cIWeteLFbMdM",
    "outputId": "e2f85d3c-e5cd-4e7d-9c19-67361b69b5fc"
   },
   "outputs": [],
   "source": [
    "!sudo apt-get install mono-devel"
   ]
  },
  {
   "cell_type": "code",
   "execution_count": null,
   "metadata": {
    "id": "Hwqy0Uw4peqZ"
   },
   "outputs": [],
   "source": [
    "!mono --version"
   ]
  },
  {
   "cell_type": "markdown",
   "metadata": {
    "id": "IWD4YT28d_9d"
   },
   "source": [
    "# Tipo Estutura"
   ]
  },
  {
   "cell_type": "markdown",
   "metadata": {
    "id": "g0G-J3dJ6t01"
   },
   "source": [
    "### Struct 1 - Variável Simples Struct"
   ]
  },
  {
   "cell_type": "code",
   "execution_count": null,
   "metadata": {
    "colab": {
     "base_uri": "https://localhost:8080/"
    },
    "executionInfo": {
     "elapsed": 345,
     "status": "ok",
     "timestamp": 1666630288961,
     "user": {
      "displayName": "Murilo Boratto",
      "userId": "13998345321799991370"
     },
     "user_tz": 180
    },
    "id": "z01VmcW86wz-",
    "outputId": "d84080fe-c3ab-4c2f-f6b7-3a7abe4a68da"
   },
   "outputs": [],
   "source": [
    "%%writefile struct1.cs\n",
    "using System;\n",
    "\n",
    "struct Pessoa\n",
    "{ \n",
    "  public string   nome;\n",
    "  public long     telefone;\n",
    "}\n",
    "\n",
    "namespace myApp\n",
    "{\n",
    "  class testStructure \n",
    "  {\n",
    "     static void Main() \n",
    "     {\n",
    "\n",
    "      Pessoa FuncionarioUNEB;   \n",
    "          \n",
    "      FuncionarioUNEB.nome            = \"Marivaldo Silva\";\n",
    "      FuncionarioUNEB.telefone        = 7199173366;\n",
    "     \n",
    "      Console.WriteLine(\"Nome: \"     + FuncionarioUNEB.nome);\n",
    "      Console.WriteLine(\"Telefone: \" + FuncionarioUNEB.telefone);\n",
    "        \n",
    "     }\n",
    "  }\n",
    "}"
   ]
  },
  {
   "cell_type": "code",
   "execution_count": null,
   "metadata": {
    "id": "F0fOJr0U7a1y"
   },
   "outputs": [],
   "source": [
    "!mcs struct1.cs -out:struct1"
   ]
  },
  {
   "cell_type": "code",
   "execution_count": null,
   "metadata": {
    "colab": {
     "base_uri": "https://localhost:8080/"
    },
    "executionInfo": {
     "elapsed": 422,
     "status": "ok",
     "timestamp": 1666630297643,
     "user": {
      "displayName": "Murilo Boratto",
      "userId": "13998345321799991370"
     },
     "user_tz": 180
    },
    "id": "MKHYNCFi8K5i",
    "outputId": "6137d9df-300b-4101-b210-440d79c6c7b9"
   },
   "outputs": [],
   "source": [
    "!mono struct1"
   ]
  },
  {
   "cell_type": "markdown",
   "metadata": {
    "id": "slVm2wGT8QF6"
   },
   "source": [
    "### Struct 2 - Variável Simples Struct"
   ]
  },
  {
   "cell_type": "code",
   "execution_count": null,
   "metadata": {
    "colab": {
     "base_uri": "https://localhost:8080/"
    },
    "executionInfo": {
     "elapsed": 891,
     "status": "ok",
     "timestamp": 1666530526142,
     "user": {
      "displayName": "Murilo Boratto",
      "userId": "13998345321799991370"
     },
     "user_tz": 180
    },
    "id": "u7_U0Y2h8WsY",
    "outputId": "e1a73547-dbb4-49f7-e340-95cb3a215c31"
   },
   "outputs": [],
   "source": [
    "%%writefile struct2.cs\n",
    "using System;\n",
    "\n",
    "struct Pessoa\n",
    "{ \n",
    "  public string    nome;\n",
    "  public long      telefone;\n",
    "}\n",
    "\n",
    "struct Endereco\n",
    "{ \n",
    " public string  rua;\n",
    " public int     numero;\n",
    " public string  bairro;\n",
    " public string  estado;\n",
    " public int     CEP;\n",
    "}\n",
    "\n",
    "namespace myApp\n",
    "{\n",
    "  class testStructure \n",
    "  {\n",
    "     static void Main() \n",
    "     {\n",
    "\n",
    "      Pessoa FuncionarioUNEB;\n",
    "      Endereco FuncionarioUNEBSalvador;   \n",
    "          \n",
    "      FuncionarioUNEB.nome            = \"Marivaldo Silva\";\n",
    "      FuncionarioUNEB.telefone        = 7199173366;\n",
    "\n",
    "      FuncionarioUNEBSalvador.rua    = \"Rua Rio Trobogi\";\n",
    "      FuncionarioUNEBSalvador.numero = 588;\n",
    "      FuncionarioUNEBSalvador.bairro = \"Piata\";\n",
    "      FuncionarioUNEBSalvador.estado = \"Bahia\";\n",
    "      FuncionarioUNEBSalvador.CEP    =  41650295;\n",
    "\n",
    "      Console.WriteLine(\"Nome: \"     +FuncionarioUNEB.nome);\n",
    "      Console.WriteLine(\"Telefone: \" +FuncionarioUNEB.telefone);\n",
    "      Console.WriteLine(\"Rua: \"      +FuncionarioUNEBSalvador.rua); \n",
    "      Console.WriteLine(\"Numero: \"   +FuncionarioUNEBSalvador.numero); \n",
    "      Console.WriteLine(\"Bairro: \"   +FuncionarioUNEBSalvador.bairro);\n",
    "      Console.WriteLine(\"Estado: \"   +FuncionarioUNEBSalvador.estado);\n",
    "      Console.WriteLine(\"CEP: \"      +FuncionarioUNEBSalvador.CEP);\n",
    "        \n",
    "     }\n",
    "  }\n",
    "}"
   ]
  },
  {
   "cell_type": "code",
   "execution_count": null,
   "metadata": {
    "id": "kQBwyLkl9I4u"
   },
   "outputs": [],
   "source": [
    "!mcs struct2.cs -out:struct2"
   ]
  },
  {
   "cell_type": "code",
   "execution_count": null,
   "metadata": {
    "colab": {
     "base_uri": "https://localhost:8080/"
    },
    "executionInfo": {
     "elapsed": 394,
     "status": "ok",
     "timestamp": 1666530560386,
     "user": {
      "displayName": "Murilo Boratto",
      "userId": "13998345321799991370"
     },
     "user_tz": 180
    },
    "id": "2xXUInLW9e0v",
    "outputId": "66d47f81-7f51-4d4c-8b2c-fa458533957a"
   },
   "outputs": [],
   "source": [
    "!mono struct2"
   ]
  },
  {
   "cell_type": "markdown",
   "metadata": {
    "id": "fpZsqTAn-KNq"
   },
   "source": [
    "### Struct 3 - Chamando uma Struct dentro de outra"
   ]
  },
  {
   "cell_type": "code",
   "execution_count": null,
   "metadata": {
    "colab": {
     "base_uri": "https://localhost:8080/"
    },
    "executionInfo": {
     "elapsed": 663,
     "status": "ok",
     "timestamp": 1666530834133,
     "user": {
      "displayName": "Murilo Boratto",
      "userId": "13998345321799991370"
     },
     "user_tz": 180
    },
    "id": "AuR1fsbA-Sh8",
    "outputId": "52693337-58e6-4d07-d7da-ef407fd17687"
   },
   "outputs": [],
   "source": [
    "%%writefile struct3.cs\n",
    "using System;\n",
    "\n",
    "struct Pessoa\n",
    "{ \n",
    "  public string   nome;\n",
    "  public long     telefone;\n",
    "  public Endereco Salvador;\n",
    "}\n",
    "\n",
    "struct Endereco\n",
    "{ \n",
    " public string  rua;\n",
    " public int     numero;\n",
    " public string  bairro;\n",
    " public string  estado;\n",
    " public int     CEP;\n",
    "}\n",
    "\n",
    "namespace myApp\n",
    "{\n",
    "  class testStructure \n",
    "  {\n",
    "     static void Main() \n",
    "     {\n",
    "\n",
    "      Pessoa FuncionarioUNEB;   \n",
    "          \n",
    "      FuncionarioUNEB.nome            = \"Marivaldo Silva\";\n",
    "      FuncionarioUNEB.telefone        = 7199173366;\n",
    "      FuncionarioUNEB.Salvador.rua    = \"Rua Rio Trobogi\";\n",
    "      FuncionarioUNEB.Salvador.numero = 588;\n",
    "      FuncionarioUNEB.Salvador.bairro = \"Piata\";\n",
    "      FuncionarioUNEB.Salvador.estado = \"Bahia\";\n",
    "      FuncionarioUNEB.Salvador.CEP    =  41650295;\n",
    "\n",
    "      Console.WriteLine(\"Nome: \"     +FuncionarioUNEB.nome);\n",
    "      Console.WriteLine(\"Telefone: \" +FuncionarioUNEB.telefone);\n",
    "      Console.WriteLine(\"Rua: \"      +FuncionarioUNEB.Salvador.rua); \n",
    "      Console.WriteLine(\"Numero: \"   +FuncionarioUNEB.Salvador.numero); \n",
    "      Console.WriteLine(\"Bairro: \"   +FuncionarioUNEB.Salvador.bairro);\n",
    "      Console.WriteLine(\"Estado: \"   +FuncionarioUNEB.Salvador.estado);\n",
    "      Console.WriteLine(\"CEP: \"      +FuncionarioUNEB.Salvador.CEP);\n",
    "        \n",
    "     }\n",
    "  }\n",
    "}"
   ]
  },
  {
   "cell_type": "code",
   "execution_count": null,
   "metadata": {
    "id": "06gIIgHqAF23"
   },
   "outputs": [],
   "source": [
    "!mcs struct3.cs -out:struct3"
   ]
  },
  {
   "cell_type": "code",
   "execution_count": null,
   "metadata": {
    "colab": {
     "base_uri": "https://localhost:8080/"
    },
    "executionInfo": {
     "elapsed": 541,
     "status": "ok",
     "timestamp": 1666531241499,
     "user": {
      "displayName": "Murilo Boratto",
      "userId": "13998345321799991370"
     },
     "user_tz": 180
    },
    "id": "sNM0RAG_AIYG",
    "outputId": "1169bdf2-1970-49dd-ec7e-8f0da198d13a"
   },
   "outputs": [],
   "source": [
    "!mono struct3"
   ]
  },
  {
   "cell_type": "markdown",
   "metadata": {
    "id": "5RG26IGEAV0b"
   },
   "source": [
    "### Struct 4 - Vetor"
   ]
  },
  {
   "cell_type": "code",
   "execution_count": null,
   "metadata": {
    "colab": {
     "base_uri": "https://localhost:8080/"
    },
    "executionInfo": {
     "elapsed": 557,
     "status": "ok",
     "timestamp": 1666630658087,
     "user": {
      "displayName": "Murilo Boratto",
      "userId": "13998345321799991370"
     },
     "user_tz": 180
    },
    "id": "ab6UcliXAcfy",
    "outputId": "d023c708-3404-43a0-9e87-c6c745478bbb"
   },
   "outputs": [],
   "source": [
    "%%writefile struct4.cs\n",
    "using System;\n",
    "\n",
    "struct Endereco\n",
    "{ \n",
    " public string rua;\n",
    " public int numero;\n",
    " public string bairro;\n",
    " public string estado;\n",
    " public int CEP;\n",
    "}\n",
    "\n",
    "struct Pessoa\n",
    "{ \n",
    "  public string nome;\n",
    "  public long telefone;\n",
    "  public Endereco Salvador;\n",
    "}\n",
    "\n",
    "\n",
    "namespace myApp\n",
    "{\n",
    "  class testStructure \n",
    "  {\n",
    "     static void Main() \n",
    "     {\n",
    "\n",
    "      Pessoa[] FuncionarioUNEB = new Pessoa[4];\n",
    "\n",
    "      /*0*/           \n",
    "      FuncionarioUNEB[0].nome            = \"Marivaldo Silva\";\n",
    "      FuncionarioUNEB[0].telefone        = 7199173366;\n",
    "      FuncionarioUNEB[0].Salvador.rua    = \"Rua Rio Trobogi\";\n",
    "      FuncionarioUNEB[0].Salvador.numero = 588;\n",
    "      FuncionarioUNEB[0].Salvador.bairro = \"Piata\";\n",
    "      FuncionarioUNEB[0].Salvador.estado = \"Bahia\";\n",
    "      FuncionarioUNEB[0].Salvador.CEP    = 41650295;\n",
    "\n",
    "      Console.WriteLine(\"\\nNome: \"     +FuncionarioUNEB[0].nome);\n",
    "      Console.WriteLine(\"Telefone: \"   +FuncionarioUNEB[0].telefone);\n",
    "      Console.WriteLine(\"Rua: \"        +FuncionarioUNEB[0].Salvador.rua); \n",
    "      Console.WriteLine(\"Numero: \"     +FuncionarioUNEB[0].Salvador.numero); \n",
    "      Console.WriteLine(\"Bairro: \"     +FuncionarioUNEB[0].Salvador.bairro);\n",
    "      Console.WriteLine(\"Estado: \"     +FuncionarioUNEB[0].Salvador.estado);\n",
    "      Console.WriteLine(\"CEP:\"         +FuncionarioUNEB[0].Salvador.CEP);\n",
    "\n",
    "\n",
    "      /*1*/\n",
    "      FuncionarioUNEB[1].nome            = \"Charleny Santos\";\n",
    "      FuncionarioUNEB[1].telefone        = 718881799;\n",
    "      FuncionarioUNEB[1].Salvador.rua    = \"Rua das Margaridas\";\n",
    "      FuncionarioUNEB[1].Salvador.numero = 90;\n",
    "      FuncionarioUNEB[1].Salvador.bairro = \"Pituba\";\n",
    "      FuncionarioUNEB[1].Salvador.estado = \"Bahia\";\n",
    "      FuncionarioUNEB[1].Salvador.CEP    =  40989077;\n",
    "\n",
    "      Console.WriteLine(\"\\nNome: \"     +FuncionarioUNEB[1].nome);\n",
    "      Console.WriteLine(\"Telefone: \"   +FuncionarioUNEB[1].telefone);\n",
    "      Console.WriteLine(\"Rua: \"        +FuncionarioUNEB[1].Salvador.rua); \n",
    "      Console.WriteLine(\"Numero: \"     +FuncionarioUNEB[1].Salvador.numero); \n",
    "      Console.WriteLine(\"Bairro: \"     +FuncionarioUNEB[1].Salvador.bairro);\n",
    "      Console.WriteLine(\"Estado: \"     +FuncionarioUNEB[1].Salvador.estado);\n",
    "      Console.WriteLine(\"CEP: \"        +FuncionarioUNEB[1].Salvador.CEP);\n",
    "\n",
    "     \n",
    "     }\n",
    "  }\n",
    "}"
   ]
  },
  {
   "cell_type": "code",
   "execution_count": null,
   "metadata": {
    "id": "yK9csdQkAuvh"
   },
   "outputs": [],
   "source": [
    "!mcs struct4.cs -out:struct4"
   ]
  },
  {
   "cell_type": "code",
   "execution_count": null,
   "metadata": {
    "colab": {
     "base_uri": "https://localhost:8080/"
    },
    "executionInfo": {
     "elapsed": 425,
     "status": "ok",
     "timestamp": 1666630665691,
     "user": {
      "displayName": "Murilo Boratto",
      "userId": "13998345321799991370"
     },
     "user_tz": 180
    },
    "id": "9HHcTuDOA3dZ",
    "outputId": "ec460443-830a-4fb6-ec3c-befd8470ba72"
   },
   "outputs": [],
   "source": [
    "!mono struct4"
   ]
  },
  {
   "cell_type": "markdown",
   "metadata": {
    "id": "AKc7PGfYA89K"
   },
   "source": [
    "### Struct 5 - Lista Simplesmente Encadeada"
   ]
  },
  {
   "cell_type": "code",
   "execution_count": null,
   "metadata": {
    "colab": {
     "base_uri": "https://localhost:8080/"
    },
    "executionInfo": {
     "elapsed": 414,
     "status": "ok",
     "timestamp": 1666631305372,
     "user": {
      "displayName": "Murilo Boratto",
      "userId": "13998345321799991370"
     },
     "user_tz": 180
    },
    "id": "I8GIJ0euA8Xk",
    "outputId": "84122669-56ec-41b0-e86a-9603d0436a35"
   },
   "outputs": [],
   "source": [
    "%%writefile struct-list.cs\n",
    "using System;\n",
    "using System.Collections.Generic;\n",
    "\n",
    "struct Pessoa\n",
    "{ \n",
    "  public string nome;\n",
    "  public long   telefone;\n",
    "  public Endereco Salvador;\n",
    "}\n",
    "\n",
    "\n",
    "struct Endereco\n",
    "{ \n",
    " public string rua;\n",
    " public int numero;\n",
    " public string bairro;\n",
    " public string estado;\n",
    " public int CEP;\n",
    "}\n",
    "\n",
    "\n",
    "namespace myApp\n",
    "{\n",
    "  class testStructure \n",
    "  {\n",
    "     static void Main() \n",
    "     {\n",
    "        List<Pessoa> listaFuncionarios = new List<Pessoa>();\n",
    "        \n",
    "        /*0*/\n",
    "        listaFuncionarios.Add(new Pessoa()\n",
    "        {\n",
    "         nome     = \"Marivaldo Silva\",\n",
    "         telefone = 7199173366,\n",
    "         Salvador = \n",
    "         {\n",
    "          rua    = \"Rua Rio Trobogi\",\n",
    "          numero = 588,\n",
    "          bairro = \"Piata\",\n",
    "          estado = \"Bahia\",\n",
    "          CEP    = 41650295\n",
    "         }\n",
    "        });\n",
    "\n",
    "        /*1*/\n",
    "        listaFuncionarios.Add(new Pessoa()\n",
    "        {\n",
    "         nome     = \"Charleni Santos\",\n",
    "         telefone = 7188179955,\n",
    "         Salvador = \n",
    "         {\n",
    "          rua    = \"Rua das Margaridas\",\n",
    "          numero = 90,\n",
    "          bairro = \"Pituba\",\n",
    "          estado = \"Bahia\",\n",
    "          CEP    = 40889977\n",
    "         }\n",
    "        });\n",
    "\n",
    "        foreach(Pessoa p in listaFuncionarios)\n",
    "          Console.WriteLine(p.nome + \",\" + p.telefone + \", \" + p.Salvador.rua + \n",
    "                                                        \", \" + p.Salvador.numero +\n",
    "                                                        \", \" + p.Salvador.bairro +\n",
    "                                                        \", \" + p.Salvador.estado +\n",
    "                                                        \", \" + p.Salvador.CEP + \"\\n\");  \n",
    "    }  \n",
    "  }\n",
    "}"
   ]
  },
  {
   "cell_type": "code",
   "execution_count": null,
   "metadata": {
    "id": "YZdgEtBVB2Rf"
   },
   "outputs": [],
   "source": [
    "!mcs struct-list.cs -out:struct-list"
   ]
  },
  {
   "cell_type": "code",
   "execution_count": null,
   "metadata": {
    "colab": {
     "base_uri": "https://localhost:8080/"
    },
    "executionInfo": {
     "elapsed": 365,
     "status": "ok",
     "timestamp": 1666631312798,
     "user": {
      "displayName": "Murilo Boratto",
      "userId": "13998345321799991370"
     },
     "user_tz": 180
    },
    "id": "sg3w8nvDB_xO",
    "outputId": "1474e0c9-26ff-44d6-83c8-c960d64b13ae"
   },
   "outputs": [],
   "source": [
    "!mono struct-list"
   ]
  }
 ],
 "metadata": {
  "accelerator": "GPU",
  "colab": {
   "collapsed_sections": [
    "m022RDapqhTl",
    "FG-mmLcXsMn9",
    "51Znx-RidzxO"
   ],
   "provenance": []
  },
  "kernelspec": {
   "display_name": "Python 3 (ipykernel)",
   "language": "python",
   "name": "python3"
  },
  "language_info": {
   "codemirror_mode": {
    "name": "ipython",
    "version": 3
   },
   "file_extension": ".py",
   "mimetype": "text/x-python",
   "name": "python",
   "nbconvert_exporter": "python",
   "pygments_lexer": "ipython3",
   "version": "3.8.8"
  }
 },
 "nbformat": 4,
 "nbformat_minor": 4
}
