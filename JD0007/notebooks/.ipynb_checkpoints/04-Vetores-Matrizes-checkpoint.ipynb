{
 "cells": [
  {
   "cell_type": "markdown",
   "metadata": {
    "id": "xXATwZ8VxZG7"
   },
   "source": [
    "# Introdução à Linguagem de Programação (C$#$)\n",
    "\n",
    " Murilo Boratto$^1$\n",
    "\n",
    "$^1$ Colegiado de Jogos Digitais <br />\n",
    "     &nbsp;&nbsp;&nbsp; Departamento de Ciências Exatas e da Terra I <br />\n",
    "     &nbsp;&nbsp;&nbsp; Universidade do Estado da Bahia (UNEB), Salvador, Bahia, Brasil \n"
   ]
  },
  {
   "cell_type": "markdown",
   "metadata": {
    "id": "MyB9gzUjSGKc"
   },
   "source": [
    "# Instalação  C$#$"
   ]
  },
  {
   "cell_type": "markdown",
   "metadata": {
    "id": "orxl23v_xqVe"
   },
   "source": [
    "Este é o passo a passo de como instalar o C# em ambiente virtual do Colab, utilizando a implementação open source do C#, o mono, sem utilizar qualquer IDE."
   ]
  },
  {
   "cell_type": "code",
   "execution_count": null,
   "metadata": {
    "colab": {
     "base_uri": "https://localhost:8080/"
    },
    "executionInfo": {
     "elapsed": 39499,
     "status": "ok",
     "timestamp": 1668446233914,
     "user": {
      "displayName": "Murilo Boratto",
      "userId": "13998345321799991370"
     },
     "user_tz": 180
    },
    "id": "cIWeteLFbMdM",
    "outputId": "e2f85d3c-e5cd-4e7d-9c19-67361b69b5fc"
   },
   "outputs": [],
   "source": [
    "!sudo apt-get install mono-devel"
   ]
  },
  {
   "cell_type": "code",
   "execution_count": null,
   "metadata": {
    "id": "Hwqy0Uw4peqZ"
   },
   "outputs": [],
   "source": [
    "!mono --version"
   ]
  },
  {
   "cell_type": "markdown",
   "metadata": {
    "id": "AJIRMi5kh36m"
   },
   "source": [
    "# Vetores e Matrizes"
   ]
  },
  {
   "cell_type": "markdown",
   "metadata": {
    "id": "4WP5xFIVfGbq"
   },
   "source": [
    "## Teste Array"
   ]
  },
  {
   "cell_type": "code",
   "execution_count": null,
   "metadata": {
    "colab": {
     "base_uri": "https://localhost:8080/"
    },
    "executionInfo": {
     "elapsed": 539,
     "status": "ok",
     "timestamp": 1666028426446,
     "user": {
      "displayName": "Murilo Boratto",
      "userId": "13998345321799991370"
     },
     "user_tz": 180
    },
    "id": "YEm-nW5GfRr_",
    "outputId": "f6463664-7272-4068-d315-0e2c83ce5ce1"
   },
   "outputs": [],
   "source": [
    "%%writefile testArray.cs\n",
    "using System;\n",
    "\n",
    "namespace CSharpDatastructuresAlgorithms\n",
    "{ \n",
    "  public class TestOneArray\n",
    "  {  \n",
    "    static void Main()\n",
    "    {\n",
    "       int[] scores = new int[6]; \n",
    "       int soma = 0;\n",
    "\n",
    "       for(int i = 0; i < 6; i++){\n",
    "          scores[i] = int.Parse(Console.ReadLine());\n",
    "          Console.Write(\"{0}\\t\", scores[i]);\n",
    "          soma = soma + scores[i];\n",
    "       }\n",
    "\n",
    "       Console.Write(\"\\nA soma = {0}\\n\", soma);\n",
    "       \n",
    "    }\n",
    "  }\n",
    "}\n"
   ]
  },
  {
   "cell_type": "code",
   "execution_count": null,
   "metadata": {
    "id": "kWT03qjpf8Ae"
   },
   "outputs": [],
   "source": [
    "!mcs testArray.cs -out:testArray"
   ]
  },
  {
   "cell_type": "code",
   "execution_count": null,
   "metadata": {
    "colab": {
     "base_uri": "https://localhost:8080/"
    },
    "executionInfo": {
     "elapsed": 15223,
     "status": "ok",
     "timestamp": 1666634591256,
     "user": {
      "displayName": "Murilo Boratto",
      "userId": "13998345321799991370"
     },
     "user_tz": 180
    },
    "id": "-gnURneegEhA",
    "outputId": "8f447d08-c057-4541-b9f1-7a95e5f6d486"
   },
   "outputs": [],
   "source": [
    "!mono testArray"
   ]
  },
  {
   "cell_type": "markdown",
   "metadata": {
    "id": "Nr0T0VTBgJOC"
   },
   "source": [
    "## Teste Matriz"
   ]
  },
  {
   "cell_type": "code",
   "execution_count": null,
   "metadata": {
    "colab": {
     "base_uri": "https://localhost:8080/"
    },
    "executionInfo": {
     "elapsed": 470,
     "status": "ok",
     "timestamp": 1666029505484,
     "user": {
      "displayName": "Murilo Boratto",
      "userId": "13998345321799991370"
     },
     "user_tz": 180
    },
    "id": "z5m4EtRQgQxs",
    "outputId": "889ef342-dc9b-4aba-e9ca-e2310158671c"
   },
   "outputs": [],
   "source": [
    "%%writefile testMatrix.cs\n",
    "using System;\n",
    "\n",
    "namespace CSharpDatastructuresAlgorithms\n",
    "{ \n",
    "  public class TestOneMatrix\n",
    "  {  \n",
    "    static void Main()\n",
    "    {\n",
    "       int[,] scores = new int[1000, 1000];  \n",
    "       int somaDiagonal = 0 ;\n",
    "\n",
    "       for(int i = 0; i < 1000; i++){\n",
    "         for(int j = 0; j < 1000; j++)\n",
    "            scores[i, j] = i + j;\n",
    "       }\n",
    "\n",
    "       for(int i = 0; i < 1000; i++){\n",
    "         for(int j = 0; j < 1000; j++){\n",
    "             if( i == j)\n",
    "               somaDiagonal = somaDiagonal + scores[i, j]; \n",
    "         }\n",
    "       }\n",
    "\n",
    "       Console.Write(\"\\nResultado da Soma da Diagonal Principal = {0}\\n\", somaDiagonal );\n",
    "       \n",
    "    }\n",
    "  }\n",
    "}"
   ]
  },
  {
   "cell_type": "code",
   "execution_count": null,
   "metadata": {
    "id": "e19FHp5MgoBY"
   },
   "outputs": [],
   "source": [
    "!mcs testMatrix.cs -out:testMatrix"
   ]
  },
  {
   "cell_type": "code",
   "execution_count": null,
   "metadata": {
    "colab": {
     "base_uri": "https://localhost:8080/"
    },
    "executionInfo": {
     "elapsed": 1088,
     "status": "ok",
     "timestamp": 1666029513041,
     "user": {
      "displayName": "Murilo Boratto",
      "userId": "13998345321799991370"
     },
     "user_tz": 180
    },
    "id": "qcxiq-NRgrgD",
    "outputId": "d1a45e49-e929-4f1b-a7b2-222f567a0d59"
   },
   "outputs": [],
   "source": [
    "!mono testMatrix"
   ]
  },
  {
   "cell_type": "markdown",
   "metadata": {
    "id": "JT80zMj5RFom"
   },
   "source": [
    "## Strings"
   ]
  },
  {
   "cell_type": "markdown",
   "metadata": {
    "id": "eZc94tJ6SZ60"
   },
   "source": [
    "### Concat( )"
   ]
  },
  {
   "cell_type": "code",
   "execution_count": null,
   "metadata": {
    "colab": {
     "base_uri": "https://localhost:8080/"
    },
    "executionInfo": {
     "elapsed": 989,
     "status": "ok",
     "timestamp": 1666029777654,
     "user": {
      "displayName": "Murilo Boratto",
      "userId": "13998345321799991370"
     },
     "user_tz": 180
    },
    "id": "O1vsHQoKSc6f",
    "outputId": "51f34ce5-5aaf-42c8-be51-12f5b35dd635"
   },
   "outputs": [],
   "source": [
    "%%writefile stringConcat.cs\n",
    "using System;\n",
    "\n",
    "namespace CSharpDatastructuresAlgorithms\n",
    "{ \n",
    "  public class TestStrings\n",
    "  {  \n",
    "      static void Main()\n",
    "      {\n",
    "        string a = \"Hello\";\n",
    "        string b = \"World\";           \n",
    "        string c = string.Concat(a,b); \n",
    "  \n",
    "        Console.WriteLine(c[2]); \n",
    "      }\n",
    "\n",
    "  }\n",
    "}\n"
   ]
  },
  {
   "cell_type": "code",
   "execution_count": null,
   "metadata": {
    "id": "npEvSjOdS3v7"
   },
   "outputs": [],
   "source": [
    "!mcs stringConcat.cs -out:stringConcat"
   ]
  },
  {
   "cell_type": "code",
   "execution_count": null,
   "metadata": {
    "colab": {
     "base_uri": "https://localhost:8080/"
    },
    "executionInfo": {
     "elapsed": 987,
     "status": "ok",
     "timestamp": 1666029784537,
     "user": {
      "displayName": "Murilo Boratto",
      "userId": "13998345321799991370"
     },
     "user_tz": 180
    },
    "id": "LD4P72FGS9M9",
    "outputId": "8206f78c-57d4-4281-b0c7-3b704dfbaabf"
   },
   "outputs": [],
   "source": [
    "!mono stringConcat"
   ]
  },
  {
   "cell_type": "markdown",
   "metadata": {
    "id": "JUHV_GVGTB2C"
   },
   "source": [
    "### Contains( )"
   ]
  },
  {
   "cell_type": "code",
   "execution_count": null,
   "metadata": {
    "colab": {
     "base_uri": "https://localhost:8080/"
    },
    "executionInfo": {
     "elapsed": 647,
     "status": "ok",
     "timestamp": 1666029961427,
     "user": {
      "displayName": "Murilo Boratto",
      "userId": "13998345321799991370"
     },
     "user_tz": 180
    },
    "id": "VWPCVI-MTHq-",
    "outputId": "57426089-2a37-4c16-e732-3f8cb2d91dc1"
   },
   "outputs": [],
   "source": [
    "%%writefile stringContains.cs\n",
    "using System;\n",
    "\n",
    "namespace CSharpDatastructuresAlgorithms\n",
    "{ \n",
    "  public class TestStrings\n",
    "  {  \n",
    "      static void Main()\n",
    "      {\n",
    "        string a = \"Murilo do Carmo Boratto\";\n",
    "        string b = \"Silva\";\n",
    "        Console.WriteLine(a.Contains(b));\n",
    "      }\n",
    "\n",
    "  }\n",
    "}\n"
   ]
  },
  {
   "cell_type": "code",
   "execution_count": null,
   "metadata": {
    "id": "FY0apAr8TWZo"
   },
   "outputs": [],
   "source": [
    "!mcs stringContains.cs -out:stringContains"
   ]
  },
  {
   "cell_type": "code",
   "execution_count": null,
   "metadata": {
    "colab": {
     "base_uri": "https://localhost:8080/"
    },
    "executionInfo": {
     "elapsed": 18,
     "status": "ok",
     "timestamp": 1666029967095,
     "user": {
      "displayName": "Murilo Boratto",
      "userId": "13998345321799991370"
     },
     "user_tz": 180
    },
    "id": "t-PUJK8OTiTE",
    "outputId": "2ae1bdaf-3975-4e5e-c0ef-62d17d1926af"
   },
   "outputs": [],
   "source": [
    "!mono stringContains"
   ]
  },
  {
   "cell_type": "markdown",
   "metadata": {
    "id": "80XWleVQUI93"
   },
   "source": [
    "### Copy( )"
   ]
  },
  {
   "cell_type": "code",
   "execution_count": null,
   "metadata": {
    "colab": {
     "base_uri": "https://localhost:8080/"
    },
    "executionInfo": {
     "elapsed": 886,
     "status": "ok",
     "timestamp": 1666030087739,
     "user": {
      "displayName": "Murilo Boratto",
      "userId": "13998345321799991370"
     },
     "user_tz": 180
    },
    "id": "oxEROvrZUQFz",
    "outputId": "9fb713cd-55dc-4e49-8dd0-40e14b9ffb28"
   },
   "outputs": [],
   "source": [
    "%%writefile stringCopy.cs\n",
    "using System;\n",
    "\n",
    "namespace CSharpDatastructuresAlgorithms\n",
    "{ \n",
    "  public class TestStrings\n",
    "  {  \n",
    "      static void Main()\n",
    "      { \n",
    "        string a = \"Hello\"; \n",
    "        string b = string.Copy(a);\n",
    "        \n",
    "        Console.WriteLine(b);\n",
    "      }\n",
    "\n",
    "  }\n",
    "}"
   ]
  },
  {
   "cell_type": "code",
   "execution_count": null,
   "metadata": {
    "id": "PRzllMPsUgDt"
   },
   "outputs": [],
   "source": [
    "!mcs stringCopy.cs -out:stringCopy"
   ]
  },
  {
   "cell_type": "code",
   "execution_count": null,
   "metadata": {
    "colab": {
     "base_uri": "https://localhost:8080/"
    },
    "executionInfo": {
     "elapsed": 19,
     "status": "ok",
     "timestamp": 1666030094360,
     "user": {
      "displayName": "Murilo Boratto",
      "userId": "13998345321799991370"
     },
     "user_tz": 180
    },
    "id": "gKBEJZpgUmce",
    "outputId": "0e8885ad-5627-4f1e-8c5e-e562f464d7e5"
   },
   "outputs": [],
   "source": [
    "!mono stringCopy"
   ]
  },
  {
   "cell_type": "markdown",
   "metadata": {
    "id": "n7gFFlSMUwRX"
   },
   "source": [
    "### Equals( )"
   ]
  },
  {
   "cell_type": "code",
   "execution_count": null,
   "metadata": {
    "colab": {
     "base_uri": "https://localhost:8080/"
    },
    "executionInfo": {
     "elapsed": 6,
     "status": "ok",
     "timestamp": 1666030469990,
     "user": {
      "displayName": "Murilo Boratto",
      "userId": "13998345321799991370"
     },
     "user_tz": 180
    },
    "id": "ZfuqhMj3UzCE",
    "outputId": "bc7091a6-5e42-4c1d-d0bc-33858cc735a1"
   },
   "outputs": [],
   "source": [
    "%%writefile stringEquals.cs\n",
    "using System;\n",
    "\n",
    "namespace CSharpDatastructuresAlgorithms\n",
    "{ \n",
    "  public class TestStrings\n",
    "  {  \n",
    "      static void Main()\n",
    "      {\n",
    "        string a = \"Hello\";\n",
    "        string b = \"World\";\n",
    "        bool c = a.Equals(b);\n",
    "\n",
    "        if(c)\n",
    "          Console.WriteLine(\"As strings são iguais.({0})\", c );\n",
    "          else\n",
    "            Console.WriteLine(\"As strings são diferentes.({0}, {1})\", a, b );\n",
    "       \n",
    "      } \n",
    "\n",
    "  }\n",
    "}"
   ]
  },
  {
   "cell_type": "code",
   "execution_count": null,
   "metadata": {
    "id": "jlLDOF97VCQC"
   },
   "outputs": [],
   "source": [
    "!mcs stringEquals.cs -out:stringEquals"
   ]
  },
  {
   "cell_type": "code",
   "execution_count": null,
   "metadata": {
    "colab": {
     "base_uri": "https://localhost:8080/"
    },
    "executionInfo": {
     "elapsed": 23,
     "status": "ok",
     "timestamp": 1666030476916,
     "user": {
      "displayName": "Murilo Boratto",
      "userId": "13998345321799991370"
     },
     "user_tz": 180
    },
    "id": "sqs2mJmBVGvk",
    "outputId": "c53e8794-519e-4c87-cb21-e984b1884335"
   },
   "outputs": [],
   "source": [
    "!mono stringEquals"
   ]
  },
  {
   "cell_type": "markdown",
   "metadata": {
    "id": "4CO51qiGVNpo"
   },
   "source": [
    "### IndexOf( )"
   ]
  },
  {
   "cell_type": "code",
   "execution_count": null,
   "metadata": {
    "colab": {
     "base_uri": "https://localhost:8080/"
    },
    "executionInfo": {
     "elapsed": 789,
     "status": "ok",
     "timestamp": 1666030643759,
     "user": {
      "displayName": "Murilo Boratto",
      "userId": "13998345321799991370"
     },
     "user_tz": 180
    },
    "id": "EIE4U59PVacn",
    "outputId": "de14f890-6c47-4cf9-f61e-459855807ed9"
   },
   "outputs": [],
   "source": [
    "%%writefile stringIndexOf.cs\n",
    "using System;\n",
    "\n",
    "namespace CSharpDatastructuresAlgorithms\n",
    "{ \n",
    "  public class TestStrings\n",
    "  {  \n",
    "      static void Main()\n",
    "      {\n",
    "        string a = \"Hello\";\n",
    "        \n",
    "        Console.WriteLine(a.IndexOf('o'));\n",
    "      }\n",
    "\n",
    "  }\n",
    "}"
   ]
  },
  {
   "cell_type": "code",
   "execution_count": null,
   "metadata": {
    "id": "ZKi0Q9VpVrCg"
   },
   "outputs": [],
   "source": [
    "!mcs stringIndexOf.cs -out:stringIndexOf"
   ]
  },
  {
   "cell_type": "code",
   "execution_count": null,
   "metadata": {
    "colab": {
     "base_uri": "https://localhost:8080/"
    },
    "executionInfo": {
     "elapsed": 501,
     "status": "ok",
     "timestamp": 1666030651112,
     "user": {
      "displayName": "Murilo Boratto",
      "userId": "13998345321799991370"
     },
     "user_tz": 180
    },
    "id": "2D8SRr9vVybv",
    "outputId": "7ebd8ba7-019f-4955-dcd5-06f244fc056f"
   },
   "outputs": [],
   "source": [
    "!mono stringIndexOf"
   ]
  },
  {
   "cell_type": "markdown",
   "metadata": {
    "id": "WLOS-qphV341"
   },
   "source": [
    "### Insert( )"
   ]
  },
  {
   "cell_type": "code",
   "execution_count": null,
   "metadata": {
    "colab": {
     "base_uri": "https://localhost:8080/"
    },
    "executionInfo": {
     "elapsed": 5,
     "status": "ok",
     "timestamp": 1666030728488,
     "user": {
      "displayName": "Murilo Boratto",
      "userId": "13998345321799991370"
     },
     "user_tz": 180
    },
    "id": "Pf29GE3uX2Vf",
    "outputId": "eb656d35-7c25-4854-95ed-304ff86b4989"
   },
   "outputs": [],
   "source": [
    "%%writefile stringInsert.cs\n",
    "using System;\n",
    "\n",
    "namespace CSharpDatastructuresAlgorithms\n",
    "{ \n",
    "  public class TestStrings\n",
    "  {  \n",
    "      static void Main()\n",
    "      {\n",
    "         string a = \"Hello\";\n",
    "         string b = a.Insert(2, \"_XXXXXXXX_\");\n",
    "\n",
    "         Console.WriteLine(b);\n",
    "      }\n",
    "\n",
    "  }\n",
    "}"
   ]
  },
  {
   "cell_type": "code",
   "execution_count": null,
   "metadata": {
    "id": "SoxmgtdQYEea"
   },
   "outputs": [],
   "source": [
    "!mcs stringInsert.cs -out:stringInsert"
   ]
  },
  {
   "cell_type": "code",
   "execution_count": null,
   "metadata": {
    "colab": {
     "base_uri": "https://localhost:8080/"
    },
    "executionInfo": {
     "elapsed": 22,
     "status": "ok",
     "timestamp": 1666030735275,
     "user": {
      "displayName": "Murilo Boratto",
      "userId": "13998345321799991370"
     },
     "user_tz": 180
    },
    "id": "ub-6a267YM9A",
    "outputId": "2e4a43e1-864d-4539-bfa9-80bd702b3110"
   },
   "outputs": [],
   "source": [
    "!mono stringInsert"
   ]
  },
  {
   "cell_type": "markdown",
   "metadata": {
    "id": "Vu7XqnlBWEOT"
   },
   "source": [
    "### Replace( )"
   ]
  },
  {
   "cell_type": "code",
   "execution_count": null,
   "metadata": {
    "colab": {
     "base_uri": "https://localhost:8080/"
    },
    "executionInfo": {
     "elapsed": 473,
     "status": "ok",
     "timestamp": 1666030764950,
     "user": {
      "displayName": "Murilo Boratto",
      "userId": "13998345321799991370"
     },
     "user_tz": 180
    },
    "id": "Bx_tZe8iYRJy",
    "outputId": "d6d9e6dc-8782-45cc-d41c-0f241e4b6173"
   },
   "outputs": [],
   "source": [
    "%%writefile stringReplace.cs\n",
    "using System;\n",
    "\n",
    "namespace CSharpDatastructuresAlgorithms\n",
    "{ \n",
    "  public class TestStrings\n",
    "  {  \n",
    "      static void Main()\n",
    "      {\n",
    "         string a = \"Hello\";\n",
    "         string b = a.Replace(\"lo\", \"World\");\n",
    "         \n",
    "         Console.WriteLine(b);\n",
    "      }\n",
    "\n",
    "  }\n",
    "}"
   ]
  },
  {
   "cell_type": "code",
   "execution_count": null,
   "metadata": {
    "id": "eXtByt9lYhVM"
   },
   "outputs": [],
   "source": [
    "!mcs stringReplace.cs -out:stringReplace"
   ]
  },
  {
   "cell_type": "code",
   "execution_count": null,
   "metadata": {
    "colab": {
     "base_uri": "https://localhost:8080/"
    },
    "executionInfo": {
     "elapsed": 18,
     "status": "ok",
     "timestamp": 1666030769657,
     "user": {
      "displayName": "Murilo Boratto",
      "userId": "13998345321799991370"
     },
     "user_tz": 180
    },
    "id": "DCcppkUcYmMb",
    "outputId": "c011174e-e092-4113-944e-339a32d95b47"
   },
   "outputs": [],
   "source": [
    "!mono stringReplace"
   ]
  },
  {
   "cell_type": "markdown",
   "metadata": {
    "id": "2is45axGWHC9"
   },
   "source": [
    "### Trim( )"
   ]
  },
  {
   "cell_type": "code",
   "execution_count": null,
   "metadata": {
    "colab": {
     "base_uri": "https://localhost:8080/"
    },
    "executionInfo": {
     "elapsed": 367,
     "status": "ok",
     "timestamp": 1665866723212,
     "user": {
      "displayName": "Murilo Boratto",
      "userId": "13998345321799991370"
     },
     "user_tz": 180
    },
    "id": "5AMiK1DfYr5S",
    "outputId": "ebf6c262-010b-48b8-971a-fed0552b8b94"
   },
   "outputs": [],
   "source": [
    "%%writefile stringTrim.cs\n",
    "using System;\n",
    "\n",
    "namespace CSharpDatastructuresAlgorithms\n",
    "{ \n",
    "  public class TestStrings\n",
    "  {  \n",
    "      static void Main()\n",
    "      {\n",
    "         string a = \"Hello \"; //remove all the whitespace characters\n",
    "         string b = a.Trim();\n",
    "\n",
    "         Console.WriteLine(b);\n",
    "      }\n",
    "\n",
    "  }\n",
    "}"
   ]
  },
  {
   "cell_type": "code",
   "execution_count": null,
   "metadata": {
    "id": "uAGB-jGNY9hF"
   },
   "outputs": [],
   "source": [
    "!mcs stringTrim.cs -out:stringTrim"
   ]
  },
  {
   "cell_type": "code",
   "execution_count": null,
   "metadata": {
    "colab": {
     "base_uri": "https://localhost:8080/"
    },
    "executionInfo": {
     "elapsed": 325,
     "status": "ok",
     "timestamp": 1665866692294,
     "user": {
      "displayName": "Murilo Boratto",
      "userId": "13998345321799991370"
     },
     "user_tz": 180
    },
    "id": "8mKuBjZsZEyY",
    "outputId": "b65c8d72-f49a-43a6-8f00-3de65338b5c3"
   },
   "outputs": [],
   "source": [
    "!mono stringTrim"
   ]
  },
  {
   "cell_type": "markdown",
   "metadata": {
    "id": "0e0iw90VWf1n"
   },
   "source": [
    "### CompareTo( )"
   ]
  },
  {
   "cell_type": "code",
   "execution_count": null,
   "metadata": {
    "colab": {
     "base_uri": "https://localhost:8080/"
    },
    "executionInfo": {
     "elapsed": 1150,
     "status": "ok",
     "timestamp": 1666031226778,
     "user": {
      "displayName": "Murilo Boratto",
      "userId": "13998345321799991370"
     },
     "user_tz": 180
    },
    "id": "EekpxWwnZQ86",
    "outputId": "438565a0-41cd-4b9e-9815-cf58139c5987"
   },
   "outputs": [],
   "source": [
    "%%writefile stringCompareTo.cs\n",
    "using System;\n",
    "\n",
    "namespace CSharpDatastructuresAlgorithms\n",
    "{ \n",
    "  public class TestStrings\n",
    "  {  \n",
    "      static void Main()\n",
    "      {\n",
    "         string a = \"Sternoclidomaistoideo\"; \n",
    "         string b = \"Ana\";\n",
    "\n",
    "         Console.WriteLine(a.CompareTo(b));    //-1 (a =< b), 0 (equal), 1 (a > b)\n",
    "       \n",
    "         int result = a.CompareTo(b);\n",
    "\n",
    "         if(result == 0)\n",
    "             Console.WriteLine(\"As strings são iguais!\");\n",
    "                else\n",
    "                 Console.WriteLine(\"As strings são diferentes\");\n",
    "       }\n",
    "\n",
    "  }\n",
    "}"
   ]
  },
  {
   "cell_type": "code",
   "execution_count": null,
   "metadata": {
    "id": "_654zvJ0Zwpo"
   },
   "outputs": [],
   "source": [
    "!mcs stringCompareTo.cs -out:stringCompareTo"
   ]
  },
  {
   "cell_type": "code",
   "execution_count": null,
   "metadata": {
    "colab": {
     "base_uri": "https://localhost:8080/"
    },
    "executionInfo": {
     "elapsed": 565,
     "status": "ok",
     "timestamp": 1666031232668,
     "user": {
      "displayName": "Murilo Boratto",
      "userId": "13998345321799991370"
     },
     "user_tz": 180
    },
    "id": "sMoDZH7eZ3h4",
    "outputId": "d85d0f57-cd86-49be-db57-c1de2caac500"
   },
   "outputs": [],
   "source": [
    "!mono stringCompareTo"
   ]
  },
  {
   "cell_type": "markdown",
   "metadata": {
    "id": "Sn2ksByKcjiG"
   },
   "source": [
    "# Passagem de Parâmetro por Linha de Comando"
   ]
  },
  {
   "cell_type": "markdown",
   "metadata": {
    "id": "L88CvPu-cv3y"
   },
   "source": [
    "## argc e argv"
   ]
  },
  {
   "cell_type": "code",
   "execution_count": null,
   "metadata": {
    "colab": {
     "base_uri": "https://localhost:8080/"
    },
    "executionInfo": {
     "elapsed": 867,
     "status": "ok",
     "timestamp": 1666031762375,
     "user": {
      "displayName": "Murilo Boratto",
      "userId": "13998345321799991370"
     },
     "user_tz": 180
    },
    "id": "plUBXXzbczvz",
    "outputId": "2c31f72e-5e47-419e-e5ae-1f1c998f580e"
   },
   "outputs": [],
   "source": [
    "%%writefile args.cs\n",
    "\n",
    "using System;\n",
    "\n",
    "namespace ComLineArg\n",
    "{\n",
    "  public class Geeks \n",
    "  {\n",
    "        static void Main(string[] args)\n",
    "        {\n",
    "            if(args.Length > 0)\n",
    "            {\n",
    "             Console.WriteLine(\"Argumentos Passos:\");\n",
    "\n",
    "             foreach(Object obj in args)\n",
    "               Console.WriteLine(obj);\n",
    "            }else\n",
    "            {\n",
    "              Console.WriteLine(\"Sem arrgumentos.\");\n",
    "            }\n",
    "       } \n",
    "  }\n",
    "}"
   ]
  },
  {
   "cell_type": "code",
   "execution_count": null,
   "metadata": {
    "id": "8P3FJYZgdGHm"
   },
   "outputs": [],
   "source": [
    "!mcs args.cs -out:args"
   ]
  },
  {
   "cell_type": "code",
   "execution_count": null,
   "metadata": {
    "colab": {
     "base_uri": "https://localhost:8080/"
    },
    "executionInfo": {
     "elapsed": 603,
     "status": "ok",
     "timestamp": 1666031779614,
     "user": {
      "displayName": "Murilo Boratto",
      "userId": "13998345321799991370"
     },
     "user_tz": 180
    },
    "id": "YrpuCsAWdXKF",
    "outputId": "3163498d-8575-464e-9aac-aca430a8abb9"
   },
   "outputs": [],
   "source": [
    "!mono args 1 2 3"
   ]
  }
 ],
 "metadata": {
  "accelerator": "GPU",
  "colab": {
   "collapsed_sections": [
    "m022RDapqhTl",
    "FG-mmLcXsMn9",
    "51Znx-RidzxO"
   ],
   "provenance": []
  },
  "kernelspec": {
   "display_name": "Python 3 (ipykernel)",
   "language": "python",
   "name": "python3"
  },
  "language_info": {
   "codemirror_mode": {
    "name": "ipython",
    "version": 3
   },
   "file_extension": ".py",
   "mimetype": "text/x-python",
   "name": "python",
   "nbconvert_exporter": "python",
   "pygments_lexer": "ipython3",
   "version": "3.8.8"
  }
 },
 "nbformat": 4,
 "nbformat_minor": 4
}
