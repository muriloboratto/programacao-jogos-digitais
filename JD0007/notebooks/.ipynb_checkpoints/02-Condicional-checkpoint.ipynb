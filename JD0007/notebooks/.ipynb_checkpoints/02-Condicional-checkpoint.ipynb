{
 "cells": [
  {
   "cell_type": "markdown",
   "metadata": {
    "id": "xXATwZ8VxZG7"
   },
   "source": [
    "# [JD0007] Introdução à Linguagem de Programação (C$#$)\n",
    "\n",
    " Murilo Boratto$^1$\n",
    "\n",
    "$^1$ Colegiado de Jogos Digitais <br />\n",
    "     &nbsp;&nbsp;&nbsp; Departamento de Ciências Exatas e da Terra I <br />\n",
    "     &nbsp;&nbsp;&nbsp; Universidade do Estado da Bahia (UNEB), Salvador, Bahia, Brasil \n"
   ]
  },
  {
   "cell_type": "markdown",
   "metadata": {
    "id": "MyB9gzUjSGKc"
   },
   "source": [
    "# Instalação  C$#$"
   ]
  },
  {
   "cell_type": "markdown",
   "metadata": {
    "id": "orxl23v_xqVe"
   },
   "source": [
    "Este é o passo a passo de como instalar o C# em ambiente virtual do Colab, utilizando a implementação open source do C#, o mono, sem utilizar qualquer IDE."
   ]
  },
  {
   "cell_type": "code",
   "execution_count": null,
   "metadata": {
    "colab": {
     "base_uri": "https://localhost:8080/"
    },
    "executionInfo": {
     "elapsed": 39499,
     "status": "ok",
     "timestamp": 1668446233914,
     "user": {
      "displayName": "Murilo Boratto",
      "userId": "13998345321799991370"
     },
     "user_tz": 180
    },
    "id": "cIWeteLFbMdM",
    "outputId": "e2f85d3c-e5cd-4e7d-9c19-67361b69b5fc"
   },
   "outputs": [],
   "source": [
    "!sudo apt-get install mono-devel"
   ]
  },
  {
   "cell_type": "code",
   "execution_count": null,
   "metadata": {
    "id": "Hwqy0Uw4peqZ"
   },
   "outputs": [],
   "source": [
    "!mono --version"
   ]
  },
  {
   "cell_type": "markdown",
   "metadata": {
    "id": "gJVFBhjCztEu"
   },
   "source": [
    "# Estruturas Condicionais"
   ]
  },
  {
   "cell_type": "markdown",
   "metadata": {
    "id": "8Xjl_5sbqbT8"
   },
   "source": [
    "## Maior de Todos"
   ]
  },
  {
   "cell_type": "markdown",
   "metadata": {},
   "source": [
    "Escreva um programa capaz de calcular o **preço médio da gasolina** considerando três postos de \n",
    "combustível de Salvador. Solicitando ao usuário que informe o valor da gasolina em cada\n",
    "um dos três postos."
   ]
  },
  {
   "cell_type": "code",
   "execution_count": null,
   "metadata": {
    "id": "lha0k9uOn8SM"
   },
   "outputs": [],
   "source": [
    "%%writefile maiorTodos.cs\n",
    "using System;\n",
    "\n",
    "namespace jdip\n",
    "{\n",
    "  class MaiorDeTodos \n",
    "  {\n",
    "   public static void Main ()\n",
    "   {\n",
    "    // Declaração de Variáveis\n",
    "    int numero1;\n",
    "    int numero2;\n",
    "    int numero3;\n",
    "\n",
    "    // Entrada de Dados\n",
    "    Console.Write (\"Informe o primeiro número (inteiro): \");\n",
    "    numero1 = int.Parse (Console.ReadLine ());\n",
    "\n",
    "    Console.Write (\"Informe o segundo número (inteiro): \");\n",
    "    numero2 = int.Parse (Console.ReadLine ());\n",
    "\n",
    "    Console.Write (\"Informe o terceiro número (inteiro): \");\n",
    "    numero3 = int.Parse (Console.ReadLine ());\n",
    "\n",
    "    // Estrutura Condicional\n",
    "    if(numero1 > numero2) \n",
    "    {\n",
    "       if(numero1 > numero3) \n",
    "       {\n",
    "         Console.WriteLine (\"O número {0} é o maior de todos!\", numero1);\n",
    "       } else \n",
    "         {\n",
    "            Console.WriteLine (\"O número {0} é o maior de todos!\", numero3);\n",
    "         }\n",
    "     }else if (numero2 > numero3 ) \n",
    "      {\n",
    "         Console.WriteLine (\"O número {0} é o maior de todos!\", numero2);\n",
    "      } else \n",
    "        {\n",
    "          Console.WriteLine (\"O número {0} é o maior de todos!\", numero3);\n",
    "        }\n",
    "    }\n",
    "  }\n",
    "}"
   ]
  },
  {
   "cell_type": "code",
   "execution_count": null,
   "metadata": {
    "id": "NzGvMrF5oeVG"
   },
   "outputs": [],
   "source": [
    "!mcs maiorTodos.cs -out:maiorTodos"
   ]
  },
  {
   "cell_type": "code",
   "execution_count": null,
   "metadata": {
    "colab": {
     "base_uri": "https://localhost:8080/"
    },
    "executionInfo": {
     "elapsed": 416,
     "status": "ok",
     "timestamp": 1664816527434,
     "user": {
      "displayName": "Murilo Boratto",
      "userId": "13998345321799991370"
     },
     "user_tz": 180
    },
    "id": "yvjHAaRzomUR",
    "outputId": "087f6019-fb7e-4819-e153-a901cb936f9e"
   },
   "outputs": [],
   "source": [
    "!mono maiorTodos"
   ]
  }
 ],
 "metadata": {
  "accelerator": "GPU",
  "colab": {
   "collapsed_sections": [
    "m022RDapqhTl",
    "FG-mmLcXsMn9",
    "51Znx-RidzxO"
   ],
   "provenance": []
  },
  "kernelspec": {
   "display_name": "Python 3 (ipykernel)",
   "language": "python",
   "name": "python3"
  },
  "language_info": {
   "codemirror_mode": {
    "name": "ipython",
    "version": 3
   },
   "file_extension": ".py",
   "mimetype": "text/x-python",
   "name": "python",
   "nbconvert_exporter": "python",
   "pygments_lexer": "ipython3",
   "version": "3.8.8"
  }
 },
 "nbformat": 4,
 "nbformat_minor": 4
}
