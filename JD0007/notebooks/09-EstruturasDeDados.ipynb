{
 "cells": [
  {
   "cell_type": "markdown",
   "metadata": {
    "id": "xXATwZ8VxZG7"
   },
   "source": [
    "# Introdução à Linguagem de Programação (C$#$)\n",
    "\n",
    " Murilo Boratto$^1$\n",
    "\n",
    "$^1$ Colegiado de Jogos Digitais <br />\n",
    "     &nbsp;&nbsp;&nbsp; Departamento de Ciências Exatas e da Terra I <br />\n",
    "     &nbsp;&nbsp;&nbsp; Universidade do Estado da Bahia (UNEB), Salvador, Bahia, Brasil \n"
   ]
  },
  {
   "cell_type": "markdown",
   "metadata": {
    "id": "MyB9gzUjSGKc"
   },
   "source": [
    "# Instalação  C$#$"
   ]
  },
  {
   "cell_type": "markdown",
   "metadata": {
    "id": "orxl23v_xqVe"
   },
   "source": [
    "Este é o passo a passo de como instalar o C# em ambiente virtual do Colab, utilizando a implementação open source do C#, o mono, sem utilizar qualquer IDE."
   ]
  },
  {
   "cell_type": "code",
   "execution_count": null,
   "metadata": {
    "colab": {
     "base_uri": "https://localhost:8080/"
    },
    "executionInfo": {
     "elapsed": 39499,
     "status": "ok",
     "timestamp": 1668446233914,
     "user": {
      "displayName": "Murilo Boratto",
      "userId": "13998345321799991370"
     },
     "user_tz": 180
    },
    "id": "cIWeteLFbMdM",
    "outputId": "e2f85d3c-e5cd-4e7d-9c19-67361b69b5fc"
   },
   "outputs": [],
   "source": [
    "!sudo apt-get install mono-devel"
   ]
  },
  {
   "cell_type": "code",
   "execution_count": null,
   "metadata": {
    "id": "Hwqy0Uw4peqZ"
   },
   "outputs": [],
   "source": [
    "!mono --version"
   ]
  },
  {
   "cell_type": "markdown",
   "metadata": {
    "id": "FydICKJCEwAe"
   },
   "source": [
    "# Estruturas de Dados Avançadas em C#"
   ]
  },
  {
   "cell_type": "markdown",
   "metadata": {
    "id": "Tc0CUB9V7DZm"
   },
   "source": [
    "## ☆ Tabelas (Tables)"
   ]
  },
  {
   "cell_type": "markdown",
   "metadata": {
    "id": "uJrhQOeVQDv3"
   },
   "source": [
    "### TestOneArray.cs"
   ]
  },
  {
   "cell_type": "code",
   "execution_count": null,
   "metadata": {
    "colab": {
     "base_uri": "https://localhost:8080/"
    },
    "executionInfo": {
     "elapsed": 352,
     "status": "ok",
     "timestamp": 1666535680233,
     "user": {
      "displayName": "Murilo Boratto",
      "userId": "13998345321799991370"
     },
     "user_tz": 180
    },
    "id": "4yJ5kcB2FE2q",
    "outputId": "89e15665-6a2e-40b5-a7b7-c5071ba72d8e"
   },
   "outputs": [],
   "source": [
    "%%writefile TestOneArray.cs\n",
    "using System;\n",
    "\n",
    "namespace CSharpDatastructuresAlgorithms\n",
    "{ \n",
    "  public class TestOneArray\n",
    "  {  \n",
    "    public static void Main()\n",
    "    {\n",
    "       int[] scores = {90, 70, 50, 80, 60, 85};\n",
    "\n",
    "       for(int i = 0; i < scores.Length; i++)\n",
    "          Console.Write(\"{0}\\t\", scores[i]);\n",
    "        \n",
    "       Console.Write(\"\\n\");\n",
    "\n",
    "    }\n",
    "  }\n",
    "}"
   ]
  },
  {
   "cell_type": "code",
   "execution_count": null,
   "metadata": {
    "id": "p4ujmhgOIzWu"
   },
   "outputs": [],
   "source": [
    "!mcs TestOneArray.cs -out:TestOneArray"
   ]
  },
  {
   "cell_type": "code",
   "execution_count": null,
   "metadata": {
    "colab": {
     "base_uri": "https://localhost:8080/"
    },
    "executionInfo": {
     "elapsed": 20,
     "status": "ok",
     "timestamp": 1666535335322,
     "user": {
      "displayName": "Murilo Boratto",
      "userId": "13998345321799991370"
     },
     "user_tz": 180
    },
    "id": "-oBb-fEMMF5R",
    "outputId": "8fd49057-f802-4193-850d-5e2c37b47e91"
   },
   "outputs": [],
   "source": [
    "!mono TestOneArray"
   ]
  },
  {
   "cell_type": "markdown",
   "metadata": {
    "id": "Ywak2wGeQHbu"
   },
   "source": [
    "### TestOneArrayAppend.cs"
   ]
  },
  {
   "cell_type": "code",
   "execution_count": null,
   "metadata": {
    "colab": {
     "base_uri": "https://localhost:8080/"
    },
    "executionInfo": {
     "elapsed": 323,
     "status": "ok",
     "timestamp": 1667154583804,
     "user": {
      "displayName": "Murilo Boratto",
      "userId": "13998345321799991370"
     },
     "user_tz": 180
    },
    "id": "k2TAsEw7QLLY",
    "outputId": "f7e0a3b6-c741-404b-8344-b18d81997feb"
   },
   "outputs": [],
   "source": [
    "%%writefile TestOneArrayAppend.cs\n",
    "using System;\n",
    "\n",
    "namespace CSharpDatastructuresAlgorithms\n",
    "{ \n",
    "  public class TestOneArrayAppend\n",
    "  {  \n",
    "    public static void Main()\n",
    "    {\n",
    "      int[] scores = {90, 70, 50, 80, 60, 85};\n",
    "\n",
    "      /* Create a new array, Length = scores.Length + 1 */\n",
    "      int[] tempArray = new int[scores.Length + 1];\n",
    "\n",
    "      for(int i = 0; i < scores.Length; i++)\n",
    "          tempArray[i] = scores[i];\n",
    "\n",
    "      tempArray[scores.Length] = 75;\n",
    "      scores = tempArray;\n",
    "\n",
    "      for(int i = 0; i < scores.Length; i++)\n",
    "          Console.Write(\"{0}\\t\", scores[i]);\n",
    "       \n",
    "       Console.Write(\"\\n\");\n",
    "\n",
    "    }/*main*/\n",
    "  }\n",
    "}"
   ]
  },
  {
   "cell_type": "code",
   "execution_count": null,
   "metadata": {
    "id": "ifJYzj4gRcbD"
   },
   "outputs": [],
   "source": [
    "!mcs TestOneArrayAppend.cs -out:TestOneArrayAppend"
   ]
  },
  {
   "cell_type": "code",
   "execution_count": null,
   "metadata": {
    "id": "cmVpR5AURhln"
   },
   "outputs": [],
   "source": [
    "!mono TestOneArrayAppend"
   ]
  },
  {
   "cell_type": "markdown",
   "metadata": {
    "id": "7bMY0dU-dsOZ"
   },
   "source": [
    "### TestArrayInsert.cs"
   ]
  },
  {
   "cell_type": "code",
   "execution_count": null,
   "metadata": {
    "colab": {
     "base_uri": "https://localhost:8080/"
    },
    "executionInfo": {
     "elapsed": 517,
     "status": "ok",
     "timestamp": 1667241132582,
     "user": {
      "displayName": "Murilo Boratto",
      "userId": "13998345321799991370"
     },
     "user_tz": 180
    },
    "id": "RXxECIM3OcJf",
    "outputId": "adecb941-fa07-4034-aacf-c74238dccc85"
   },
   "outputs": [],
   "source": [
    "%%writefile TestArrayInsert.cs\n",
    "using System;\n",
    "\n",
    "namespace CSharpDatastructuresAlgorithms\n",
    "{ \n",
    "\n",
    "  public class TestOneArrayInsert\n",
    "  {  \n",
    "\n",
    "    public static int[] Insert(int[] array, int score, int insertIndex)\n",
    "    {\n",
    "     int[] tempArray = new int[array.Length + 1];\n",
    "\n",
    "     for(int i = 0; i < array.Length; i++)  \n",
    "     {\n",
    "      if(i < insertIndex)\n",
    "        tempArray[i] = array[i];\n",
    "           else\n",
    "            tempArray[i+1] = array[i];\n",
    "      } \n",
    "\n",
    "      tempArray[insertIndex] = score;\n",
    "\n",
    "      return tempArray;\n",
    "\n",
    "    }/*Insert*/\n",
    "\n",
    "\n",
    "    public static void Main()\n",
    "    {\n",
    "      int[] scores = {90, 70, 50, 80, 60, 85};\n",
    "\n",
    "      scores = Insert(scores, 100, 3); /*Insert 75 into the position: index = 2*/\n",
    "\n",
    "      for(int i = 0; i < scores.Length; i++)\n",
    "          Console.Write(\"{0}\\t\", scores[i]);\n",
    "       \n",
    "       Console.Write(\"\\n\");\n",
    "\n",
    "    }/*main*/\n",
    "  }\n",
    "}"
   ]
  },
  {
   "cell_type": "code",
   "execution_count": null,
   "metadata": {
    "id": "0N1s0wZYOkLE"
   },
   "outputs": [],
   "source": [
    "!mcs TestArrayInsert.cs -out:TestArrayInsert"
   ]
  },
  {
   "cell_type": "code",
   "execution_count": null,
   "metadata": {
    "colab": {
     "base_uri": "https://localhost:8080/"
    },
    "executionInfo": {
     "elapsed": 415,
     "status": "ok",
     "timestamp": 1667241140369,
     "user": {
      "displayName": "Murilo Boratto",
      "userId": "13998345321799991370"
     },
     "user_tz": 180
    },
    "id": "INsq7qtJOout",
    "outputId": "a84a6c95-57d0-43a3-989e-87ddcd3e73c3"
   },
   "outputs": [],
   "source": [
    "!mono TestArrayInsert"
   ]
  },
  {
   "cell_type": "markdown",
   "metadata": {
    "id": "z8XLKRVrOtAJ"
   },
   "source": [
    "### TestOneArrayDelete.cs"
   ]
  },
  {
   "cell_type": "code",
   "execution_count": null,
   "metadata": {
    "colab": {
     "base_uri": "https://localhost:8080/"
    },
    "executionInfo": {
     "elapsed": 366,
     "status": "ok",
     "timestamp": 1667241461926,
     "user": {
      "displayName": "Murilo Boratto",
      "userId": "13998345321799991370"
     },
     "user_tz": 180
    },
    "id": "Pf1kcF4TaWSn",
    "outputId": "4a998f2f-c06c-482e-f6d8-44a73bdd4d76"
   },
   "outputs": [],
   "source": [
    "%%writefile TestOneArrayDelete.cs\n",
    "using System;\n",
    "\n",
    "namespace CSharpDatastructuresAlgorithms\n",
    "{ \n",
    "  public class TestOneArrayDelete\n",
    "  {  \n",
    "\n",
    "    public static int[] Delete(int[] array, int deleteIndex)\n",
    "    {\n",
    "     int[] tempArray = new int[array.Length - 1];\n",
    "\n",
    "     for(int i = 0; i < array.Length; i++)  \n",
    "     {\n",
    "      if(i < deleteIndex)\n",
    "        tempArray[i] = array[i];\n",
    "           else\n",
    "            tempArray[i-1] = array[i];\n",
    "      } \n",
    "\n",
    "      array = tempArray;\n",
    "\n",
    "      return tempArray;\n",
    "\n",
    "    }/*Delete*/\n",
    "\n",
    "\n",
    "    public static void Main()\n",
    "    {\n",
    "      int[] scores = {90, 70, 50, 80, 60, 85};\n",
    "\n",
    "      scores = Delete(scores,  1);\n",
    "\n",
    "      for(int i = 0; i < scores.Length; i++)\n",
    "          Console.Write(\"{0}\\t\", scores[i]);\n",
    "       \n",
    "       Console.Write(\"\\n\");\n",
    "\n",
    "    }/*main*/\n",
    "  }\n",
    "}"
   ]
  },
  {
   "cell_type": "code",
   "execution_count": null,
   "metadata": {
    "id": "cT6Gt4o2bId7"
   },
   "outputs": [],
   "source": [
    "!mcs TestOneArrayDelete.cs -out:TestOneArrayDelete"
   ]
  },
  {
   "cell_type": "code",
   "execution_count": null,
   "metadata": {},
   "outputs": [],
   "source": [
    "!mono TestOneArrayDelete"
   ]
  },
  {
   "cell_type": "markdown",
   "metadata": {
    "id": "z8XLKRVrOtAJ"
   },
   "source": [
    "### TestOneArraySearch.cs"
   ]
  },
  {
   "cell_type": "code",
   "execution_count": null,
   "metadata": {
    "colab": {
     "base_uri": "https://localhost:8080/"
    },
    "executionInfo": {
     "elapsed": 366,
     "status": "ok",
     "timestamp": 1667241461926,
     "user": {
      "displayName": "Murilo Boratto",
      "userId": "13998345321799991370"
     },
     "user_tz": 180
    },
    "id": "Pf1kcF4TaWSn",
    "outputId": "4a998f2f-c06c-482e-f6d8-44a73bdd4d76"
   },
   "outputs": [],
   "source": [
    "%%writefile TestOneArraySearch.cs\n",
    "using System;\n",
    "\n",
    "namespace CSharpDatastructuresAlgorithms\n",
    "{ \n",
    "  public class TestOneArraySearch\n",
    "  {  \n",
    "\n",
    "    public static void Search(int[] array, int value)\n",
    "    {\n",
    "     bool isSearch = false;\n",
    "      \n",
    "     for(int i = 0; i < array.Length; i++)  \n",
    "     {\n",
    "       if(array[i] == value)\n",
    "       {\n",
    "        isSearch = true;\n",
    "        Console.Write(\"Found value {0} in the position {1}\\n\", value, i);\n",
    "        break;\n",
    "       }  \n",
    "         \n",
    "      } \n",
    "\n",
    "      if(!isSearch)\n",
    "        Console.Write(\"Value {0} not found!\\n\", value);\n",
    "\n",
    "    }/*Search*/\n",
    "\n",
    "\n",
    "    public static void Main()\n",
    "    {\n",
    "      int[] scores = {90, 70, 50, 80, 60, 85};\n",
    "\n",
    "      for(int i = 0; i < scores.Length; i++)\n",
    "          Console.Write(\"{0}\\t\", scores[i]);\n",
    "       \n",
    "       Console.Write(\"\\n\");\n",
    "\n",
    "      int value = 100;\n",
    "\n",
    "      Search(scores, value); \n",
    "         \n",
    "    }/*main*/\n",
    "  }\n",
    "}"
   ]
  },
  {
   "cell_type": "code",
   "execution_count": null,
   "metadata": {
    "id": "cT6Gt4o2bId7"
   },
   "outputs": [],
   "source": [
    "!mcs TestOneArraySearch.cs -out:TestOneArraySearch"
   ]
  },
  {
   "cell_type": "code",
   "execution_count": null,
   "metadata": {
    "colab": {
     "base_uri": "https://localhost:8080/"
    },
    "executionInfo": {
     "elapsed": 1034,
     "status": "ok",
     "timestamp": 1667241470416,
     "user": {
      "displayName": "Murilo Boratto",
      "userId": "13998345321799991370"
     },
     "user_tz": 180
    },
    "id": "itXUnAVCbSLO",
    "outputId": "b305249a-e429-4c72-89c8-345a6ba1d6c6"
   },
   "outputs": [],
   "source": [
    "!mono TestOneArraySearch"
   ]
  },
  {
   "cell_type": "markdown",
   "metadata": {
    "id": "fH0E17IZ7Vwm"
   },
   "source": [
    "## ☆ Algoritmos de Ordenação Direta"
   ]
  },
  {
   "cell_type": "markdown",
   "metadata": {},
   "source": [
    "### Algoritmo de Ordenação da Bolha (Bubble Sorting)"
   ]
  },
  {
   "cell_type": "code",
   "execution_count": null,
   "metadata": {},
   "outputs": [],
   "source": [
    "%%writefile TestBubbleSort.cs\n",
    "using System;\n",
    "\n",
    "namespace CSharpDatastructuresAlgorithms\n",
    "{ \n",
    "  public class TestBubbleSort\n",
    "  {  \n",
    "    public static void BubbleSort(int[] array)\n",
    "    {  \n",
    "     for(int i = 0; i < array.Length-1; i++){\n",
    "        for(int j = 0; j < array.Length-i-1; j++){\n",
    "          if(array[j] > array[j+1]){\n",
    "            int flag = array[j];\n",
    "            array[j] = array[j+1];\n",
    "            array[j+1] = flag;\n",
    "          }/*if*/\n",
    "        }/*for*/\n",
    "     }/*for*/  \n",
    "       \n",
    "    }/*BubbleSort*/\n",
    "\n",
    "    public static void Main()\n",
    "    {\n",
    "      int[] scores = {90, 70, 50, 80, 60, 85};\n",
    "     \n",
    "      for(int i = 0; i < scores.Length; i++)\n",
    "          Console.Write(\"{0}\\t\", scores[i]);\n",
    "       \n",
    "       Console.Write(\"\\n\\nBubbleSort:\\n\\n\");\n",
    "\n",
    "      BubbleSort(scores); \n",
    "     \n",
    "      for(int i = 0; i < scores.Length; i++)\n",
    "          Console.Write(\"{0}\\t\", scores[i]);\n",
    "\n",
    "      Console.Write(\"\\n\");    \n",
    "        \n",
    "    }/*main*/\n",
    "  } \n",
    "}"
   ]
  },
  {
   "cell_type": "code",
   "execution_count": null,
   "metadata": {
    "id": "cT6Gt4o2bId7"
   },
   "outputs": [],
   "source": [
    "!mcs TestBubbleSort.cs -out:TestBubbleSort"
   ]
  },
  {
   "cell_type": "code",
   "execution_count": null,
   "metadata": {
    "colab": {
     "base_uri": "https://localhost:8080/"
    },
    "executionInfo": {
     "elapsed": 1034,
     "status": "ok",
     "timestamp": 1667241470416,
     "user": {
      "displayName": "Murilo Boratto",
      "userId": "13998345321799991370"
     },
     "user_tz": 180
    },
    "id": "itXUnAVCbSLO",
    "outputId": "b305249a-e429-4c72-89c8-345a6ba1d6c6"
   },
   "outputs": [],
   "source": [
    "!mono TestBubbleSort"
   ]
  },
  {
   "cell_type": "markdown",
   "metadata": {},
   "source": [
    "### Algoritmo de Ordenação por Inserção (Insert Sorting)"
   ]
  },
  {
   "cell_type": "code",
   "execution_count": null,
   "metadata": {},
   "outputs": [],
   "source": [
    "%%writefile TestInsertSort.cs\n",
    "using System;\n",
    "\n",
    "namespace CSharpDatastructuresAlgorithms\n",
    "{ \n",
    "  public class TestInsertSort\n",
    "  {  \n",
    "\n",
    "    public static void InsertSort(int[] array)\n",
    "    {  \n",
    "      for(int i = 0; i < array.Length; i++){\n",
    "          \n",
    "          int insertElement = array[i];\n",
    "          int insertPosition = i;\n",
    "\n",
    "          for(int j = insertPosition - 1; j >=0; j--){\n",
    "          \n",
    "            if(insertElement < array[j]){\n",
    "              array[j+1] = array[j];\n",
    "              insertPosition--;\n",
    "            }/*if*/\n",
    "\n",
    "          }/*for*/       \n",
    "\n",
    "          array[insertPosition] = insertElement;\n",
    "       \n",
    "      }/*for*/\n",
    "      \n",
    "    }/*InsertSort*/\n",
    "\n",
    "\n",
    "    public static void Main()\n",
    "    {\n",
    "\n",
    "      int[] scores = {90, 70, 50, 80, 60, 85};\n",
    "     \n",
    "      for(int i = 0; i < scores.Length; i++)\n",
    "          Console.Write(\"{0}\\t\", scores[i]);\n",
    "       \n",
    "      Console.Write(\"\\n\\nInsertSort:\\n\\n\");\n",
    "\n",
    "      InsertSort(scores); \n",
    "     \n",
    "      for(int i = 0; i < scores.Length; i++)\n",
    "          Console.Write(\"{0}\\t\", scores[i]);\n",
    "\n",
    "      Console.Write(\"\\n\");    \n",
    "        \n",
    "    }/*main*/\n",
    "  }\n",
    "}"
   ]
  },
  {
   "cell_type": "code",
   "execution_count": null,
   "metadata": {},
   "outputs": [],
   "source": [
    "!mcs TestInsertSort.cs -out:TestInsertSort"
   ]
  },
  {
   "cell_type": "code",
   "execution_count": null,
   "metadata": {
    "colab": {
     "base_uri": "https://localhost:8080/"
    },
    "executionInfo": {
     "elapsed": 1034,
     "status": "ok",
     "timestamp": 1667241470416,
     "user": {
      "displayName": "Murilo Boratto",
      "userId": "13998345321799991370"
     },
     "user_tz": 180
    },
    "id": "itXUnAVCbSLO",
    "outputId": "b305249a-e429-4c72-89c8-345a6ba1d6c6"
   },
   "outputs": [],
   "source": [
    "!mono TestInsertSort"
   ]
  },
  {
   "cell_type": "markdown",
   "metadata": {},
   "source": [
    "### Algoritmo de Ordenação por Seleção (Select Sorting)"
   ]
  },
  {
   "cell_type": "code",
   "execution_count": null,
   "metadata": {},
   "outputs": [],
   "source": [
    "%%writefile TestSelectSort.cs\n",
    "using System;\n",
    "\n",
    "namespace CSharpDatastructuresAlgorithms\n",
    "{ \n",
    "  public class TestSelectSort{  \n",
    "\n",
    "    public static void SelectSort(int[] array){\n",
    "      \n",
    "     int len = array.Length-1;\n",
    "     int minIndex; \n",
    "\n",
    "     for(int i = 0; i < len; i++){\n",
    "       \n",
    "          minIndex = i;\n",
    "\n",
    "          int minValue = array[minIndex];\n",
    "\n",
    "          for(int j = i; j < len; j++){\n",
    "            \n",
    "            if(minValue > array[j+1]){\n",
    "             minValue = array[j+1];\n",
    "             minIndex = j + 1;\n",
    "            }/*if*/\n",
    "\n",
    "          }/*for*/\n",
    "\n",
    "          if(i != minIndex){\n",
    "            int temp = array[i];\n",
    "            array[i] = array[minIndex];\n",
    "            array[minIndex] = temp;\n",
    "          }/*if*/\n",
    "\n",
    "      }/*for*/\n",
    "\n",
    "    }/*SelectSort*/\n",
    "\n",
    "\n",
    "    public static void Main()\n",
    "    {\n",
    "      int[] scores = {90, 70, 50, 80, 60, 85};\n",
    "     \n",
    "      for(int i = 0; i < scores.Length; i++)\n",
    "          Console.Write(\"{0}\\t\", scores[i]);\n",
    "       \n",
    "      Console.Write(\"\\n\\nSelectionSort:\\n\\n\");\n",
    "\n",
    "      SelectSort(scores); \n",
    "     \n",
    "      for(int i = 0; i < scores.Length; i++)\n",
    "          Console.Write(\"{0}\\t\", scores[i]);\n",
    "\n",
    "      Console.Write(\"\\n\");    \n",
    "        \n",
    "    }/*main*/\n",
    "  }\n",
    "}"
   ]
  },
  {
   "cell_type": "code",
   "execution_count": null,
   "metadata": {},
   "outputs": [],
   "source": [
    "!mcs TestSelectSort.cs -out:TestSelectSort"
   ]
  },
  {
   "cell_type": "code",
   "execution_count": null,
   "metadata": {},
   "outputs": [],
   "source": [
    "!mono TestSelectSort"
   ]
  },
  {
   "cell_type": "markdown",
   "metadata": {},
   "source": [
    "## ☆ Algoritmos de Ordenação Rápida (Quicksort)"
   ]
  },
  {
   "cell_type": "code",
   "execution_count": null,
   "metadata": {},
   "outputs": [],
   "source": [
    "%%writefile TesQuickSort.cs\n",
    "using System;  \n",
    "\n",
    "namespace CSharpDatastructuresAlgorithms    \n",
    "{    \n",
    "    class QuickSortAlgoritm    \n",
    "    {    \n",
    "        public static void QuickSort(int[] array, int low, int high)    \n",
    "        {  \n",
    "           if(low > high)\n",
    "             return;\n",
    "             \n",
    "           int i         = low;\n",
    "           int j         = high;\n",
    "           int threshold = array[low];\n",
    "           \n",
    "           while(i < j)\n",
    "           {\n",
    "             while(i < j && array[j] > threshold)\n",
    "              j--;   \n",
    "\n",
    "             if(i < j) \n",
    "              array[i++] = array[j];\n",
    "\n",
    "             while( i < j && array[i] <= threshold)\n",
    "              i++;\n",
    "           \n",
    "             if(i < j)\n",
    "              array[j--] = array[i];\n",
    "          \n",
    "           }/*while*/    \n",
    "          \n",
    "           array[i] = threshold;\n",
    "\n",
    "           QuickSort(array, low, i-1);\n",
    "\n",
    "           QuickSort(array, i+1, high);\n",
    "\n",
    "\n",
    "        }/*QuickSort*/\n",
    "  \n",
    "\n",
    "        public static void QuickSort(int[] array)    \n",
    "        {  \n",
    "           if(array.Length > 0)\n",
    "             QuickSort(array, 0, array.Length-1);\n",
    "\n",
    "        }/*QuickSort*/\n",
    "\n",
    "\n",
    "        public static void Main(string[] args) \n",
    "        {\n",
    "            int[] scores = {90, 70, 50, 80, 60, 85};\n",
    "     \n",
    "            for(int i = 0; i < scores.Length; i++)\n",
    "              Console.Write(\"{0}\\t\", scores[i]);\n",
    "       \n",
    "            Console.Write(\"\\n\\nQuickSort:\\n\\n\");\n",
    "\n",
    "            QuickSort(scores);     \n",
    "     \n",
    "            for(int i = 0; i < scores.Length; i++)\n",
    "              Console.Write(\"{0}\\t\", scores[i]);\n",
    "\n",
    "            Console.Write(\"\\n\");    \n",
    "           \n",
    "        } /*main*/   \n",
    "    }    \n",
    "} "
   ]
  },
  {
   "cell_type": "code",
   "execution_count": null,
   "metadata": {},
   "outputs": [],
   "source": [
    "!mcs TesQuickSort.cs -out:TesQuickSort"
   ]
  },
  {
   "cell_type": "code",
   "execution_count": null,
   "metadata": {},
   "outputs": [],
   "source": [
    "!mono TesQuickSort"
   ]
  },
  {
   "cell_type": "markdown",
   "metadata": {},
   "source": [
    "## ☆ Algoritmos de Ordenação por Mescla (Mergesort)"
   ]
  },
  {
   "cell_type": "code",
   "execution_count": null,
   "metadata": {},
   "outputs": [],
   "source": [
    "%%writefile TesMergeSort.cs\n",
    "using System;  \n",
    "\n",
    "namespace CSharpDatastructuresAlgorithms    \n",
    "{    \n",
    "    class MergeSortAlgoritm    \n",
    "    {    \n",
    "        static public void MergeSort(int[] numbers, int left, int mid, int right)    \n",
    "        {    \n",
    "            int[] temp = new int[25];    \n",
    "            int i, eol, num, pos;  \n",
    "\n",
    "            eol = (mid - 1);    \n",
    "            pos = left;   \n",
    "            num = (right - left + 1);     \n",
    "  \n",
    "            while ((left <= eol) && (mid <= right)){    \n",
    "                if (numbers[left] <= numbers[mid])    \n",
    "                    temp[pos++] = numbers[left++];    \n",
    "                else    \n",
    "                    temp[pos++] = numbers[mid++];    \n",
    "            }    \n",
    "            while (left <= eol)    \n",
    "                temp[pos++] = numbers[left++];    \n",
    "            while (mid <= right)    \n",
    "                temp[pos++] = numbers[mid++];   \n",
    "            for (i = 0; i < num; i++)    \n",
    "            {    \n",
    "                numbers[right] = temp[right];    \n",
    "                right--;    \n",
    "            }    \n",
    "        }   \n",
    "  \n",
    "        public static void Sort(int[] numbers, int left, int right)    \n",
    "        {    \n",
    "            int mid; \n",
    "\n",
    "            if (right > left){    \n",
    "                mid = (right + left) / 2;    \n",
    "                Sort(numbers, left, mid);    \n",
    "                Sort(numbers, (mid + 1), right);    \n",
    "                MergeSort(numbers, left, (mid + 1), right);    \n",
    "            }    \n",
    "        }     \n",
    "  \n",
    "        public static void Main(string[] args) \n",
    "        {\n",
    "\n",
    "            int[] scores = {90, 70, 50, 80, 60, 85};\n",
    "     \n",
    "            for(int i = 0; i < scores.Length; i++)\n",
    "              Console.Write(\"{0}\\t\", scores[i]);\n",
    "       \n",
    "            Console.Write(\"\\n\\nMergeSort:\\n\\n\");\n",
    "\n",
    "            Sort(scores, 0, 5);  //Sort(array, a, b - 1)    \n",
    "     \n",
    "            for(int i = 0; i < scores.Length; i++)\n",
    "              Console.Write(\"{0}\\t\", scores[i]);\n",
    "\n",
    "            Console.Write(\"\\n\");            \n",
    "        }/*main*/    \n",
    "    }    \n",
    "} "
   ]
  },
  {
   "cell_type": "code",
   "execution_count": null,
   "metadata": {},
   "outputs": [],
   "source": [
    "!mcs TesMergeSort.cs -out:TesMergeSort"
   ]
  },
  {
   "cell_type": "code",
   "execution_count": null,
   "metadata": {},
   "outputs": [],
   "source": [
    "!mono TesMergeSort"
   ]
  },
  {
   "cell_type": "markdown",
   "metadata": {},
   "source": [
    "## ☆ List"
   ]
  },
  {
   "cell_type": "code",
   "execution_count": null,
   "metadata": {},
   "outputs": [],
   "source": [
    "%%writefile list.cs\n",
    "using System; \n",
    "using System.Collections.Generic;\n",
    "\n",
    "namespace myApp\n",
    "{ \n",
    "     public class Pessoa\n",
    "     {  \n",
    "        \n",
    "        public string Nome { get; set; } \n",
    "        public int Idade { get; set; }\n",
    "\n",
    "        public Pessoa(int idade, string nome)\n",
    "        {\n",
    "            this.Idade = idade;\n",
    "            this.Nome = nome;\n",
    "        }\n",
    "      }/*Pessoa*/\n",
    "\n",
    "\n",
    "     public class Principal\n",
    "     {  \n",
    "       public static void Main()\n",
    "       {\n",
    "            List<Pessoa>  pessoas = new List<Pessoa>();\n",
    "\n",
    "            pessoas.Add(new Pessoa(50, \"Macoratti\"));\n",
    "            pessoas.Add(new Pessoa(25, \"Jefferson\"));\n",
    "            pessoas.Add(new Pessoa(45, \"Miriam\"));\n",
    "            \n",
    "            foreach (Pessoa p in pessoas)\n",
    "                Console.WriteLine(p.Nome + \" \" + p.Idade);\n",
    "               \n",
    "       }/*main*/ \n",
    "     }/*class*/\n",
    "}/*namespace*/"
   ]
  },
  {
   "cell_type": "code",
   "execution_count": null,
   "metadata": {},
   "outputs": [],
   "source": [
    "!mcs list.cs -out:list"
   ]
  },
  {
   "cell_type": "code",
   "execution_count": null,
   "metadata": {},
   "outputs": [],
   "source": [
    "!mono list"
   ]
  },
  {
   "cell_type": "markdown",
   "metadata": {},
   "source": [
    "## ☆ Queue"
   ]
  },
  {
   "cell_type": "code",
   "execution_count": null,
   "metadata": {},
   "outputs": [],
   "source": [
    "%%writefile queue.cs\n",
    "using System;\n",
    "using System.Collections.Generic;\n",
    "using System.Diagnostics;\n",
    "using System.Text;\n",
    "\n",
    "namespace CSharpDatastructuresAlgorithms\n",
    "{ \n",
    "  public class Node\n",
    "  {\n",
    "    public  string data;\n",
    "    public  Node prev;\n",
    "    public  Node next;\n",
    "\n",
    "    public Node(string data)\n",
    "    {\n",
    "     this.data = data;\n",
    "    }\n",
    "\n",
    "   public string getData()\n",
    "   {\n",
    "    return(data);     \n",
    "   }\n",
    "\n",
    "  }/*class Node*/\n",
    "\n",
    "\n",
    "   public class Queue\n",
    "   {\n",
    "    private Node head;\n",
    "    private Node tail;\n",
    "    private int size;\n",
    "   \n",
    "    public void Offer(string element)\n",
    "    {\n",
    "       if(head == null)\n",
    "       {   \n",
    "         head = new Node(element);\n",
    "         tail = head; \n",
    "       }\n",
    "       else\n",
    "       {\n",
    "         Node newNode = new Node(element);\n",
    "         newNode.next = tail;\n",
    "         tail.prev = newNode;\n",
    "         tail = newNode;\n",
    "       }\n",
    "       size++;\n",
    "   \n",
    "    }/*Offer*/\n",
    "\n",
    "    public Node Poll()\n",
    "    {\n",
    "      Node p = head;\n",
    "\n",
    "      if(p == null)\n",
    "       return null;\n",
    "  \n",
    "      head = head.prev; \n",
    "\n",
    "      p.next = null;\n",
    "      p.prev = null;\n",
    "\n",
    "      size--;\n",
    "\n",
    "      return p;\n",
    "\n",
    "    }/*Node*/\n",
    "\n",
    "    public int Size()\n",
    "    {\n",
    "      return size;\n",
    "    } \n",
    "\n",
    "   }/*class Queue*/\n",
    "\n",
    "   public class TestQueue\n",
    "   {\n",
    "     \n",
    "     public static void print(Queue queue)\n",
    "     {\n",
    "       Console.Write(\"Head \");\n",
    "       Node node = null;\n",
    "\n",
    "       while((node = queue.Poll()) != null)\n",
    "          Console.Write(node.getData() + \" <-- \");\n",
    "\n",
    "       Console.Write(\" Tail \\n\");\n",
    "\n",
    "     }/*print*/\n",
    "\n",
    "     public static void Main()\n",
    "     {\n",
    "       Queue queue = new Queue();\n",
    "\n",
    "       queue.Offer(\"A\");\n",
    "       queue.Offer(\"B\");\n",
    "       queue.Offer(\"C\");\n",
    "       queue.Offer(\"D\");\n",
    "       \n",
    "       print(queue);\n",
    "\n",
    "     }/*main*/\n",
    "   }/*class*/\n",
    "}/*namespace*/"
   ]
  },
  {
   "cell_type": "code",
   "execution_count": null,
   "metadata": {},
   "outputs": [],
   "source": [
    "!mcs queue.cs -out:queue "
   ]
  },
  {
   "cell_type": "code",
   "execution_count": null,
   "metadata": {},
   "outputs": [],
   "source": [
    "!mono queue"
   ]
  },
  {
   "cell_type": "markdown",
   "metadata": {},
   "source": [
    "## ☆ Graph"
   ]
  },
  {
   "cell_type": "code",
   "execution_count": null,
   "metadata": {},
   "outputs": [],
   "source": [
    "%%writefile graph.cs\n",
    "using System;\n",
    "using System.Collections.Generic;\n",
    "using System.Diagnostics;\n",
    "using System.Text;\n",
    "\n",
    "namespace CSharpDatastructuresAlgorithms\n",
    "{ \n",
    "  public class Graph\n",
    "  {\n",
    "    private int maxVertexSize;\n",
    "    private int size;\n",
    "    private Vertex[] vertexs;\n",
    "    private int[,] adjacencyMatrix;\n",
    "\n",
    "    private Stack <Int32> stack;\n",
    "\n",
    "    public Graph(int maxVertexSize)\n",
    "    {\n",
    "     this.maxVertexSize = maxVertexSize;\n",
    "     vertexs = new Vertex[maxVertexSize];\n",
    "\n",
    "     adjacencyMatrix = new int[maxVertexSize,maxVertexSize];\n",
    "\n",
    "     stack = new Stack<Int32>(); \n",
    "    \n",
    "    }\n",
    "\n",
    "    public void AddVertex(string data)\n",
    "    {\n",
    "     Vertex vertex = new Vertex(data, false);\n",
    "     vertexs[size] = vertex;\n",
    "     size++;\n",
    "    } \n",
    "\n",
    "    public void addEdge(int from, int to)\n",
    "    {\n",
    "      adjacencyMatrix[from,to] = 1;\n",
    "    }\n",
    "\n",
    "    public void DepthFirstSearch()\n",
    "    {\n",
    "      Vertex firstVertex = vertexs[0];\n",
    "      firstVertex.visited = true;\n",
    "      Console.Write(firstVertex.data); \n",
    "      stack.Push(0);\n",
    "\n",
    "      while(stack.Count > 0)\n",
    "      {\n",
    "        int row = stack.Peek();\n",
    "        int col = FindAdjacencyUnVisitedVertex(row);\n",
    "\n",
    "        if(col == -1)\n",
    "          stack.Pop();\n",
    "            else\n",
    "            {\n",
    "              vertexs[col].visited = true;\n",
    "              Console.Write(\" -> \" + vertexs[col].data); \n",
    "              stack.Push(col);\n",
    "            }\n",
    "      \n",
    "      }/*while*/\n",
    "\n",
    "      Console.Write(\"\\n\\n\"); \n",
    "\n",
    "      Clear();\n",
    "\n",
    "    }/*DepthFirstSearch*/\n",
    "\n",
    "    public int FindAdjacencyUnVisitedVertex(int row)\n",
    "    {\n",
    "      for(int col = 0; col < size; col++)\n",
    "      {\n",
    "       if(adjacencyMatrix[row, col] == 1 && !vertexs[col].visited)\n",
    "         return col;\n",
    "\n",
    "      }/*for*/\n",
    "\n",
    "      return -1;\n",
    "\n",
    "    }/*FindAdjacencyUnVisitedVertex*/\n",
    "\n",
    "    public void Clear()\n",
    "    {\n",
    "     for(int i = 0; i < size; i++)\n",
    "       vertexs[i].visited = false;\n",
    "    }\n",
    "\n",
    "    public int[,] GetAdjacencyMatrix()\n",
    "    {\n",
    "     return adjacencyMatrix;\n",
    "    } \n",
    "\n",
    "    public Vertex[] GetVertexs()\n",
    "    {\n",
    "     return vertexs;\n",
    "    }\n",
    "\n",
    "  }/*class Graph*/ \n",
    "\n",
    "\n",
    "  public class Vertex\n",
    "  {  \n",
    "    public string data;\n",
    "    public bool visited; \n",
    "\n",
    "    public Vertex(string data, bool visited)\n",
    "    {\n",
    "     this.data = data;\n",
    "     this.visited = visited;\n",
    "    }\n",
    "\n",
    "  }/*class Vertex*/\n",
    "\n",
    "   public class TestGraph\n",
    "   {\n",
    "     public static void PrintGraph(Graph graph)\n",
    "     {\n",
    "       Console.Write(\"\\n\");\n",
    "\n",
    "       for(int i = 0; i < graph.GetVertexs().Length;i++)\n",
    "       {\n",
    "        if(i == 0)\n",
    "         Console.Write(\"  \" + graph.GetVertexs()[i].data + \" \");\n",
    "          else\n",
    "             Console.Write(graph.GetVertexs()[i].data + \" \");\n",
    "       }\n",
    "\n",
    "       Console.Write(\"\\n\");\n",
    "\n",
    "       for(int i = 0; i < graph.GetAdjacencyMatrix().GetLength(0); i++){\n",
    "         Console.Write(graph.GetVertexs()[i].data + \" \");\n",
    "            for(int j = 0; j < graph.GetAdjacencyMatrix().GetLength(0);j++){\n",
    "               Console.Write(graph.GetAdjacencyMatrix()[i,j] + \" \");\n",
    "             }\n",
    "         Console.Write(\"\\n\");    \n",
    "       }/*for*/\n",
    "\n",
    "     }/*PrintGraph*/\n",
    "\n",
    "\n",
    "     public static void Main()\n",
    "     {\n",
    "       Graph graph = new Graph(5);\n",
    "\n",
    "       graph.AddVertex(\"A\");\n",
    "       graph.AddVertex(\"B\");\n",
    "       graph.AddVertex(\"C\");\n",
    "       graph.AddVertex(\"D\");\n",
    "       graph.AddVertex(\"E\");\n",
    "       \n",
    "       graph.addEdge(0,1);\n",
    "       graph.addEdge(0,2);\n",
    "       graph.addEdge(0,3);\n",
    "       graph.addEdge(1,2);\n",
    "       graph.addEdge(1,3);\n",
    "       graph.addEdge(2,3);\n",
    "       graph.addEdge(3,4);\n",
    "\n",
    "       PrintGraph(graph);\n",
    "\n",
    "       Console.Write(\"\\n\"); \n",
    "\n",
    "       graph.DepthFirstSearch();\n",
    "\n",
    "     }/*main*/\n",
    "   }/*class*/\n",
    "}/*namespace*/"
   ]
  },
  {
   "cell_type": "code",
   "execution_count": null,
   "metadata": {},
   "outputs": [],
   "source": [
    "!mcs graph.cs -out:graph "
   ]
  },
  {
   "cell_type": "code",
   "execution_count": null,
   "metadata": {},
   "outputs": [],
   "source": [
    "!mono graph"
   ]
  },
  {
   "cell_type": "markdown",
   "metadata": {},
   "source": [
    "## ☆ Stack "
   ]
  },
  {
   "cell_type": "code",
   "execution_count": null,
   "metadata": {},
   "outputs": [],
   "source": [
    "%%writefile stack.cs\n",
    "using System;\n",
    "using System.Collections.Generic;\n",
    "using System.Diagnostics;\n",
    "using System.Text;\n",
    "\n",
    "namespace CSharpDatastructuresAlgorithms\n",
    "{ \n",
    "\n",
    "  public class Node\n",
    "  {\n",
    "    public  string data;\n",
    "    public  Node next;\n",
    "\n",
    "    public Node(string data)\n",
    "    {\n",
    "     this.data = data;\n",
    "    }\n",
    "\n",
    "  }/*class Node*/\n",
    "\n",
    "   public class Stack\n",
    "   {\n",
    "    private Node top;\n",
    "    private int size;\n",
    "   \n",
    "    public void Push(string element)\n",
    "    {\n",
    "       if(top == null)\n",
    "        top = new Node(element);\n",
    "          else\n",
    "          {\n",
    "           Node newNode = new Node(element);\n",
    "           newNode.next = top;\n",
    "           top = newNode;\n",
    "          }\n",
    "          size++;\n",
    "    }/*Push*/\n",
    "\n",
    "    public Node Pop()\n",
    "    {\n",
    "      if(top == null)\n",
    "       return null;\n",
    "  \n",
    "      Node p = top;\n",
    "      top = top.next;\n",
    "\n",
    "      p.next = null;\n",
    "      size--;\n",
    "\n",
    "      return p;\n",
    "\n",
    "    }/*Pop*/\n",
    "\n",
    "    public int Size()\n",
    "    {\n",
    "      return size;\n",
    "    } \n",
    "\n",
    "   }/*class Stack*/\n",
    "\n",
    "   public class TestStack\n",
    "   {\n",
    "     \n",
    "     public static void print(Stack stack)\n",
    "     {\n",
    "       Console.Write(\"Top \");\n",
    "       Node node = null;\n",
    "\n",
    "       while((node = stack.Pop()) != null)\n",
    "          Console.Write(node.data + \" --> \");\n",
    "\n",
    "       Console.Write(\" End\\n\");\n",
    "\n",
    "     }/*print*/\n",
    "\n",
    "     public static void Main()\n",
    "     {\n",
    "       Stack stack = new Stack();\n",
    "\n",
    "       stack.Push(\"A\");\n",
    "       stack.Push(\"B\");\n",
    "       stack.Push(\"C\");\n",
    "       stack.Push(\"D\");\n",
    "       \n",
    "       print(stack);\n",
    "\n",
    "     }/*main*/\n",
    "   }/*class*/\n",
    "}/*namespace*/"
   ]
  },
  {
   "cell_type": "code",
   "execution_count": null,
   "metadata": {},
   "outputs": [],
   "source": [
    "!mcs stack.cs -out:stack "
   ]
  },
  {
   "cell_type": "code",
   "execution_count": null,
   "metadata": {},
   "outputs": [],
   "source": [
    "!mono stack"
   ]
  },
  {
   "cell_type": "markdown",
   "metadata": {},
   "source": [
    "## ☆ Recursive"
   ]
  },
  {
   "cell_type": "code",
   "execution_count": null,
   "metadata": {},
   "outputs": [],
   "source": [
    "%%writefile recursive.cs\n",
    "using System;  \n",
    "\n",
    "namespace CSharpDatastructuresAlgorithms\n",
    "{\n",
    "    class TestFactorial\n",
    "    {    \n",
    "        public static int factorial(int n) \n",
    "        {\n",
    "      \n",
    "          if(n==1)\n",
    "            return 1;\n",
    "               else\n",
    "                 return factorial(n - 1) * n;\n",
    "            \n",
    "        }/*factorial*/\n",
    "\n",
    "\n",
    "        public static void Main() \n",
    "        {\n",
    "            int n = 5;\n",
    "            int f = factorial(n);\n",
    "     \n",
    "            Console.Write(\"Factorial({0}) = {1}\\n\", n, f);\n",
    "       \n",
    "        } /*main*/   \n",
    "    }    \n",
    "} "
   ]
  },
  {
   "cell_type": "code",
   "execution_count": null,
   "metadata": {},
   "outputs": [],
   "source": [
    "!mcs recursive.cs -out:recursive"
   ]
  },
  {
   "cell_type": "code",
   "execution_count": null,
   "metadata": {},
   "outputs": [],
   "source": [
    "!mono recursive"
   ]
  }
 ],
 "metadata": {
  "accelerator": "GPU",
  "colab": {
   "collapsed_sections": [
    "m022RDapqhTl",
    "FG-mmLcXsMn9",
    "51Znx-RidzxO"
   ],
   "provenance": []
  },
  "kernelspec": {
   "display_name": "Python 3 (ipykernel)",
   "language": "python",
   "name": "python3"
  },
  "language_info": {
   "codemirror_mode": {
    "name": "ipython",
    "version": 3
   },
   "file_extension": ".py",
   "mimetype": "text/x-python",
   "name": "python",
   "nbconvert_exporter": "python",
   "pygments_lexer": "ipython3",
   "version": "3.8.8"
  }
 },
 "nbformat": 4,
 "nbformat_minor": 4
}
